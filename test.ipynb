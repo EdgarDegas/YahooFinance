{
 "cells": [
  {
   "cell_type": "code",
   "execution_count": 1,
   "metadata": {},
   "outputs": [],
   "source": [
    "from bs4 import BeautifulSoup"
   ]
  },
  {
   "cell_type": "code",
   "execution_count": 81,
   "metadata": {},
   "outputs": [
    {
     "data": {
      "text/plain": [
       "<strong data-reactid=\"23\">Industrials</strong>"
      ]
     },
     "execution_count": 81,
     "metadata": {},
     "output_type": "execute_result"
    }
   ],
   "source": [
    "soup.strong"
   ]
  },
  {
   "cell_type": "code",
   "execution_count": 28,
   "metadata": {},
   "outputs": [],
   "source": [
    "html_doc = \"\"\"<div class=\"qsp-2col-profile Mt(10px) smartphone_Mt(20px) Lh(1.7)\" data-reactid=\"5\"><h3 class=\"Fz(m) Mb(10px)\" data-reactid=\"6\">China Eastern Airlines Corporation Limited</h3><div class=\"Mb(25px)\" data-reactid=\"7\"><p class=\"D(ib)W(47.727%) Pend(40px)\" data-reactid=\"8\"><!-- react-text: 9 -->CEA Building<!-- /react-text --><br data-reactid=\"10\"/><!-- react-text: 11 -->5th Floor, Block A2 36 Hongxiang 3rd Road Northern District, Minhang District<!-- /react-text --><br data-reactid=\"12\"/><!-- react-text: 13 -->Shanghai<!-- /react-text --><br data-reactid=\"14\"/><!-- react-text: 15 -->China<!-- /react-text --><br data-reactid=\"16\"/><a data-reactid=\"17\"></a><br data-reactid=\"18\"/><a data-reactid=\"19\" href=\"http://www.ceair.com\" rel=\"noopener\" target=\"_blank\" title=\"\">http://www.ceair.com</a></p><p class=\"D(ib) Va(t)\" data-reactid=\"20\"><span data-reactid=\"21\">Sector</span><!-- react-text: 22 -->: <!-- /react-text--><strong data-reactid=\"23\">Industrials</strong><br data-reactid=\"24\"/><span data-reactid=\"25\">Industry</span><!-- react-text: 26 -->: <!-- /react-text --><strong data-reactid=\"27\">Airlines</strong><br data-reactid=\"28\"/><span data-reactid=\"29\">Full Time Employees</span><!-- react-text: 30 -->: <!-- /react-text --><strong data-reactid=\"31\"><span data-reactid=\"32\">75,277</span></strong></p></div></div>\"\"\""
   ]
  },
  {
   "cell_type": "code",
   "execution_count": 27,
   "metadata": {},
   "outputs": [],
   "source": [
    "soup = BeautifulSoup(html_doc, \"html.parser\")"
   ]
  },
  {
   "cell_type": "code",
   "execution_count": 54,
   "metadata": {},
   "outputs": [
    {
     "data": {
      "text/plain": [
       "<h3 class=\"Fz(m) Mb(10px)\" data-reactid=\"6\">China Eastern Airlines Corporation Limited</h3>"
      ]
     },
     "execution_count": 54,
     "metadata": {},
     "output_type": "execute_result"
    }
   ],
   "source": [
    "soup.contents[0].h3"
   ]
  },
  {
   "cell_type": "code",
   "execution_count": 68,
   "metadata": {},
   "outputs": [
    {
     "data": {
      "text/plain": [
       "bs4.BeautifulSoup"
      ]
     },
     "execution_count": 68,
     "metadata": {},
     "output_type": "execute_result"
    }
   ],
   "source": [
    "type(soup)"
   ]
  },
  {
   "cell_type": "code",
   "execution_count": 69,
   "metadata": {},
   "outputs": [
    {
     "data": {
      "text/plain": [
       "<h3 class=\"Fz(m) Mb(10px)\" data-reactid=\"6\">China Eastern Airlines Corporation Limited</h3>"
      ]
     },
     "execution_count": 69,
     "metadata": {},
     "output_type": "execute_result"
    }
   ],
   "source": [
    "soup.h3"
   ]
  },
  {
   "cell_type": "code",
   "execution_count": 74,
   "metadata": {},
   "outputs": [
    {
     "data": {
      "text/plain": [
       "[<strong data-reactid=\"23\">Industrials</strong>,\n",
       " <strong data-reactid=\"27\">Airlines</strong>,\n",
       " <strong data-reactid=\"31\"><span data-reactid=\"32\">75,277</span></strong>]"
      ]
     },
     "execution_count": 74,
     "metadata": {},
     "output_type": "execute_result"
    }
   ],
   "source": [
    "soup.find_all('strong')"
   ]
  },
  {
   "cell_type": "code",
   "execution_count": 75,
   "metadata": {},
   "outputs": [],
   "source": [
    "strong_lst = soup.contents[0].find_all('strong')"
   ]
  },
  {
   "cell_type": "code",
   "execution_count": 80,
   "metadata": {},
   "outputs": [
    {
     "data": {
      "text/plain": [
       "75277"
      ]
     },
     "execution_count": 80,
     "metadata": {},
     "output_type": "execute_result"
    }
   ],
   "source": [
    "int(strong_lst[2].string.replace(',', ''))"
   ]
  },
  {
   "cell_type": "code",
   "execution_count": null,
   "metadata": {},
   "outputs": [],
   "source": []
  },
  {
   "cell_type": "code",
   "execution_count": 108,
   "metadata": {},
   "outputs": [],
   "source": [
    "from numpy import ndarray"
   ]
  },
  {
   "cell_type": "code",
   "execution_count": 113,
   "metadata": {},
   "outputs": [
    {
     "data": {
      "text/plain": [
       "<module 'numpy' from '/usr/local/lib/python3.6/site-packages/numpy/__init__.py'>"
      ]
     },
     "execution_count": 113,
     "metadata": {},
     "output_type": "execute_result"
    }
   ],
   "source": [
    "numpy"
   ]
  },
  {
   "cell_type": "code",
   "execution_count": 82,
   "metadata": {},
   "outputs": [],
   "source": [
    "section = \"\"\"<section class=\"Pb(30px) smartphone_Px(20px)\" data-reactid=\"2\" data-test=\"qsp-statistics\"><div class=\"C($gray) Fz(xs) Fl(end) smartphone_D(n)\" data-reactid=\"3\"><span data-reactid=\"4\">Currency in USD</span></div><div class=\"Mstart(a) Mend(a)\" data-reactid=\"5\"><div class=\"Fl(start) W(50%) smartphone_W(100%)\" data-reactid=\"6\"><h2 class=\"Pt(20px)\" data-reactid=\"7\"><span data-reactid=\"8\">Valuation Measures</span></h2><div class=\"Mb(10px) Pend(20px) smartphone_Pend(0px)\" data-reactid=\"9\"><div data-reactid=\"10\"><table class=\"table-qsp-stats Mt(10px)\" data-reactid=\"11\"><tbody data-reactid=\"12\"><tr data-reactid=\"13\"><td data-reactid=\"14\"><span data-reactid=\"15\">Market Cap (intraday)</span><!-- react-text: 16 --> <!-- /react-text --><!-- react-text: 17 --><!-- /react-text --><sup aria-label=\"Shares outstanding is taken from the most recently filed quarterly or annual report and Market Cap is calculated using shares outstanding.\" data-reactid=\"18\">5</sup></td><td class=\"Fz(s) Fw(500) Ta(end)\" data-reactid=\"19\">11.38B</td></tr><tr data-reactid=\"20\"><td data-reactid=\"21\"><span data-reactid=\"22\">Enterprise Value</span><!-- react-text: 23 --> <!-- /react-text --><!-- react-text: 24 --><!-- /react-text --><sup aria-label=\"Data derived from multiple sources or calculated by Yahoo Finance.\" data-reactid=\"25\">3</sup></td><td class=\"Fz(s) Fw(500) Ta(end)\" data-reactid=\"26\">19.04B</td></tr><tr data-reactid=\"27\"><td data-reactid=\"28\"><span data-reactid=\"29\">Trailing P/E</span><!-- react-text: 30 --> <!-- /react-text --><!-- react-text: 31 --><!-- /react-text --><sup aria-label=\"KS_HELP_SUP_undefined\" data-reactid=\"32\"></sup></td><td class=\"Fz(s) Fw(500) Ta(end)\" data-reactid=\"33\">14.11</td></tr><tr data-reactid=\"34\"><td data-reactid=\"35\"><span data-reactid=\"36\">Forward P/E</span><!-- react-text: 37 --> <!-- /react-text --><!-- react-text: 38 --><!-- /react-text --><sup aria-label=\"Data provided by Thomson Reuters.\" data-reactid=\"39\">1</sup></td><td class=\"Fz(s) Fw(500) Ta(end)\" data-reactid=\"40\"><span data-reactid=\"41\">N/A</span></td></tr><tr data-reactid=\"42\"><td data-reactid=\"43\"><span data-reactid=\"44\">PEG Ratio (5 yr expected)</span><!-- react-text: 45 --> <!-- /react-text --><!-- react-text: 46 --><!-- /react-text --><sup aria-label=\"Data provided by Thomson Reuters.\" data-reactid=\"47\">1</sup></td><td class=\"Fz(s) Fw(500) Ta(end)\" data-reactid=\"48\"><span data-reactid=\"49\">N/A</span></td></tr><tr data-reactid=\"50\"><td data-reactid=\"51\"><span data-reactid=\"52\">Price/Sales</span><!-- react-text: 53 --> <!-- /react-text --><!-- react-text: 54 -->(ttm)<!-- /react-text --><sup aria-label=\"KS_HELP_SUP_undefined\" data-reactid=\"55\"></sup></td><td class=\"Fz(s) Fw(500) Ta(end)\" data-reactid=\"56\">0.69</td></tr><tr data-reactid=\"57\"><td data-reactid=\"58\"><span data-reactid=\"59\">Price/Book</span><!-- react-text: 60 --> <!-- /react-text --><!-- react-text: 61 -->(mrq)<!-- /react-text --><sup aria-label=\"KS_HELP_SUP_undefined\" data-reactid=\"62\"></sup></td><td class=\"Fz(s) Fw(500) Ta(end)\" data-reactid=\"63\">1.06</td></tr><tr data-reactid=\"64\"><td data-reactid=\"65\"><span data-reactid=\"66\">Enterprise Value/Revenue</span><!-- react-text: 67 --> <!-- /react-text --><!-- react-text: 68 --><!-- /react-text --><sup aria-label=\"Data derived from multiple sources or calculated by Yahoo Finance.\" data-reactid=\"69\">3</sup></td><td class=\"Fz(s) Fw(500) Ta(end)\" data-reactid=\"70\">1.16</td></tr><tr data-reactid=\"71\"><td data-reactid=\"72\"><span data-reactid=\"73\">Enterprise Value/EBITDA</span><!-- react-text: 74 --> <!-- /react-text --><!-- react-text: 75 --><!-- /react-text --><sup aria-label=\"EBITDA is calculated by Capital IQ using methodology that may differ from that used by a company in its reporting.\" data-reactid=\"76\">6</sup></td><td class=\"Fz(s) Fw(500) Ta(end)\" data-reactid=\"77\">5.73</td></tr></tbody></table></div></div><h2 class=\"Pt(20px) D(ib)\" data-reactid=\"78\"><span data-reactid=\"79\">Financial Highlights</span></h2><span class=\"Fz(xs) C($gray) Mstart(10px)\" data-reactid=\"80\"><span data-reactid=\"81\">Currency in CNY. </span></span><div class=\"Mb(10px) Pend(20px) smartphone_Pend(0px)\" data-reactid=\"82\"><div data-reactid=\"83\"><h3 class=\"Fz(s) Mt(20px)\" data-reactid=\"84\"><span data-reactid=\"85\">Fiscal Year</span></h3><table class=\"table-qsp-stats Mt(10px)\" data-reactid=\"86\"><tbody data-reactid=\"87\"><tr data-reactid=\"88\"><td data-reactid=\"89\"><span data-reactid=\"90\">Fiscal Year Ends</span><!-- react-text: 91 --> <!-- /react-text --><!-- react-text: 92 --><!-- /react-text --><sup aria-label=\"KS_HELP_SUP_undefined\" data-reactid=\"93\"></sup></td><td class=\"Fz(s) Fw(500) Ta(end)\" data-reactid=\"94\">Dec 31, 2017</td></tr><tr data-reactid=\"95\"><td data-reactid=\"96\"><span data-reactid=\"97\">Most Recent Quarter</span><!-- react-text: 98 --> <!-- /react-text --><!-- react-text: 99 -->(mrq)<!-- /react-text --><sup aria-label=\"KS_HELP_SUP_undefined\" data-reactid=\"100\"></sup></td><td class=\"Fz(s) Fw(500) Ta(end)\" data-reactid=\"101\">Jun 30, 2018</td></tr></tbody></table></div><div data-reactid=\"102\"><h3 class=\"Fz(s) Mt(20px)\" data-reactid=\"103\"><span data-reactid=\"104\">Profitability</span></h3><table class=\"table-qsp-stats Mt(10px)\" data-reactid=\"105\"><tbody data-reactid=\"106\"><tr data-reactid=\"107\"><td data-reactid=\"108\"><span data-reactid=\"109\">Profit Margin</span><!-- react-text: 110 --> <!-- /react-text --><!-- react-text: 111 --><!-- /react-text --><sup aria-label=\"KS_HELP_SUP_undefined\" data-reactid=\"112\"></sup></td><td class=\"Fz(s) Fw(500) Ta(end)\" data-reactid=\"113\">3.97%</td></tr><tr data-reactid=\"114\"><td data-reactid=\"115\"><span data-reactid=\"116\">Operating Margin</span><!-- react-text: 117 --> <!-- /react-text --><!-- react-text: 118 -->(ttm)<!-- /react-text --><sup aria-label=\"KS_HELP_SUP_undefined\" data-reactid=\"119\"></sup></td><td class=\"Fz(s) Fw(500) Ta(end)\" data-reactid=\"120\">7.06%</td></tr></tbody></table></div><div data-reactid=\"121\"><h3 class=\"Fz(s) Mt(20px)\" data-reactid=\"122\"><span data-reactid=\"123\">Management Effectiveness</span></h3><table class=\"table-qsp-stats Mt(10px)\" data-reactid=\"124\"><tbody data-reactid=\"125\"><tr data-reactid=\"126\"><td data-reactid=\"127\"><span data-reactid=\"128\">Return on Assets</span><!-- react-text: 129 --> <!-- /react-text --><!-- react-text: 130 -->(ttm)<!-- /react-text --><sup aria-label=\"KS_HELP_SUP_undefined\" data-reactid=\"131\"></sup></td><td class=\"Fz(s) Fw(500) Ta(end)\" data-reactid=\"132\">2.07%</td></tr><tr data-reactid=\"133\"><td data-reactid=\"134\"><span data-reactid=\"135\">Return on Equity</span><!-- react-text: 136 --> <!-- /react-text --><!-- react-text: 137 -->(ttm)<!-- /react-text --><sup aria-label=\"KS_HELP_SUP_undefined\" data-reactid=\"138\"></sup></td><td class=\"Fz(s) Fw(500) Ta(end)\" data-reactid=\"139\">8.23%</td></tr></tbody></table></div><div data-reactid=\"140\"><h3 class=\"Fz(s) Mt(20px)\" data-reactid=\"141\"><span data-reactid=\"142\">Income Statement</span></h3><table class=\"table-qsp-stats Mt(10px)\" data-reactid=\"143\"><tbody data-reactid=\"144\"><tr data-reactid=\"145\"><td data-reactid=\"146\"><span data-reactid=\"147\">Revenue</span><!-- react-text: 148 --> <!-- /react-text --><!-- react-text: 149 -->(ttm)<!-- /react-text --><sup aria-label=\"KS_HELP_SUP_undefined\" data-reactid=\"150\"></sup></td><td class=\"Fz(s) Fw(500) Ta(end)\" data-reactid=\"151\">16.43B</td></tr><tr data-reactid=\"152\"><td data-reactid=\"153\"><span data-reactid=\"154\">Revenue Per Share</span><!-- react-text: 155 --> <!-- /react-text --><!-- react-text: 156 -->(ttm)<!-- /react-text --><sup aria-label=\"KS_HELP_SUP_undefined\" data-reactid=\"157\"></sup></td><td class=\"Fz(s) Fw(500) Ta(end)\" data-reactid=\"158\">57.25</td></tr><tr data-reactid=\"159\"><td data-reactid=\"160\"><span data-reactid=\"161\">Quarterly Revenue Growth</span><!-- react-text: 162 --> <!-- /react-text --><!-- react-text: 163 -->(yoy)<!-- /react-text--><sup aria-label=\"KS_HELP_SUP_undefined\" data-reactid=\"164\"></sup></td><td class=\"Fz(s) Fw(500) Ta(end)\" data-reactid=\"165\">17.80%</td></tr><tr data-reactid=\"166\"><td data-reactid=\"167\"><span data-reactid=\"168\">Gross Profit</span><!-- react-text: 169 --> <!-- /react-text --><!-- react-text: 170 -->(ttm)<!-- /react-text --><sup aria-label=\"KS_HELP_SUP_undefined\" data-reactid=\"171\"></sup></td><td class=\"Fz(s) Fw(500) Ta(end)\" data-reactid=\"172\">11.32B</td></tr><tr data-reactid=\"173\"><td data-reactid=\"174\"><span data-reactid=\"175\">EBITDA</span><!-- react-text: 176 --> <!-- /react-text --><!-- react-text: 177 --><!-- /react-text --><sup aria-label=\"KS_HELP_SUP_undefined\" data-reactid=\"178\"></sup></td><td class=\"Fz(s) Fw(500) Ta(end)\" data-reactid=\"179\">3.32B</td></tr><tr data-reactid=\"180\"><td data-reactid=\"181\"><span data-reactid=\"182\">Net Income Avi to Common</span><!-- react-text: 183 --> <!-- /react-text--><!-- react-text: 184 -->(ttm)<!-- /react-text --><sup aria-label=\"KS_HELP_SUP_undefined\" data-reactid=\"185\"></sup></td><td class=\"Fz(s) Fw(500) Ta(end)\" data-reactid=\"186\">651.78M</td></tr><tr data-reactid=\"187\"><td data-reactid=\"188\"><span data-reactid=\"189\">Diluted EPS</span><!-- react-text: 190 --> <!-- /react-text --><!-- react-text: 191 -->(ttm)<!-- /react-text --><sup aria-label=\"KS_HELP_SUP_undefined\" data-reactid=\"192\"></sup></td><td class=\"Fz(s) Fw(500) Ta(end)\" data-reactid=\"193\">2.25</td></tr><tr data-reactid=\"194\"><td data-reactid=\"195\"><span data-reactid=\"196\">Quarterly Earnings Growth</span><!-- react-text: 197 --> <!-- /react-text --><!-- react-text: 198 -->(yoy)<!-- /react-text --><sup aria-label=\"KS_HELP_SUP_undefined\" data-reactid=\"199\"></sup></td><td class=\"Fz(s) Fw(500) Ta(end)\" data-reactid=\"200\">-80.40%</td></tr></tbody></table></div><div data-reactid=\"201\"><h3 class=\"Fz(s) Mt(20px)\" data-reactid=\"202\"><span data-reactid=\"203\">Balance Sheet</span></h3><table class=\"table-qsp-stats Mt(10px)\" data-reactid=\"204\"><tbody data-reactid=\"205\"><tr data-reactid=\"206\"><td data-reactid=\"207\"><span data-reactid=\"208\">Total Cash</span><!-- react-text: 209 --> <!-- /react-text --><!-- react-text: 210 -->(mrq)<!-- /react-text --><sup aria-label=\"KS_HELP_SUP_undefined\" data-reactid=\"211\"></sup></td><td class=\"Fz(s) Fw(500) Ta(end)\" data-reactid=\"212\">498.56M</td></tr><tr data-reactid=\"213\"><td data-reactid=\"214\"><span data-reactid=\"215\">Total Cash Per Share</span><!-- react-text: 216 --> <!-- /react-text --><!-- react-text: 217 -->(mrq)<!-- /react-text --><sup aria-label=\"KS_HELP_SUP_undefined\" data-reactid=\"218\"></sup></td><td class=\"Fz(s) Fw(500) Ta(end)\" data-reactid=\"219\">1.77</td></tr><tr data-reactid=\"220\"><td data-reactid=\"221\"><span data-reactid=\"222\">Total Debt</span><!-- react-text: 223 --><!-- /react-text --><!-- react-text: 224 -->(mrq)<!-- /react-text --><sup aria-label=\"KS_HELP_SUP_undefined\" data-reactid=\"225\"></sup></td><td class=\"Fz(s) Fw(500) Ta(end)\" data-reactid=\"226\">10.2B</td></tr><tr data-reactid=\"227\"><td data-reactid=\"228\"><span data-reactid=\"229\">Total Debt/Equity</span><!-- react-text: 230 --> <!-- /react-text --><!-- react-text: 231 -->(mrq)<!-- /react-text --><sup aria-label=\"KS_HELP_SUP_undefined\" data-reactid=\"232\"></sup></td><td class=\"Fz(s) Fw(500) Ta(end)\" data-reactid=\"233\">113.24</td></tr><tr data-reactid=\"234\"><td data-reactid=\"235\"><span data-reactid=\"236\">Current Ratio</span><!-- react-text: 237 --> <!-- /react-text --><!-- react-text: 238 -->(mrq)<!-- /react-text --><sup aria-label=\"KS_HELP_SUP_undefined\" data-reactid=\"239\"></sup></td><td class=\"Fz(s) Fw(500) Ta(end)\" data-reactid=\"240\">0.27</td></tr><tr data-reactid=\"241\"><td data-reactid=\"242\"><span data-reactid=\"243\">Book Value Per Share</span><!-- react-text: 244 --> <!-- /react-text --><!-- react-text: 245 -->(mrq)<!-- /react-text --><sup aria-label=\"KS_HELP_SUP_undefined\" data-reactid=\"246\"></sup></td><td class=\"Fz(s) Fw(500) Ta(end)\" data-reactid=\"247\">30.05</td></tr></tbody></table></div><div data-reactid=\"248\"><h3 class=\"Fz(s) Mt(20px)\" data-reactid=\"249\"><span data-reactid=\"250\">Cash Flow Statement</span></h3><table class=\"table-qsp-stats Mt(10px)\" data-reactid=\"251\"><tbody data-reactid=\"252\"><tr data-reactid=\"253\"><td data-reactid=\"254\"><span data-reactid=\"255\">Operating Cash Flow</span><!-- react-text: 256 --> <!-- /react-text --><!-- react-text: 257 -->(ttm)<!-- /react-text --><sup aria-label=\"KS_HELP_SUP_undefined\" data-reactid=\"258\"></sup></td><td class=\"Fz(s) Fw(500) Ta(end)\" data-reactid=\"259\">3.49B</td></tr><tr data-reactid=\"260\"><td data-reactid=\"261\"><span data-reactid=\"262\">Levered Free Cash Flow</span><!-- react-text: 263 --> <!-- /react-text --><!-- react-text: 264 -->(ttm)<!-- /react-text --><sup aria-label=\"KS_HELP_SUP_undefined\" data-reactid=\"265\"></sup></td><td class=\"Fz(s) Fw(500) Ta(end)\" data-reactid=\"266\">316.29M</td></tr></tbody></table></div></div></div><div class=\"Fl(end) W(50%) smartphone_W(100%)\" data-reactid=\"267\"><h2 class=\"Pt(6px) Pstart(20px) smartphone_Pstart(0px)\" data-reactid=\"268\"><span data-reactid=\"269\">Trading Information</span></h2><div class=\"Pstart(20px) smartphone_Pstart(0px)\" data-reactid=\"270\"><div data-reactid=\"271\"><h3 class=\"Fz(s) Mt(20px)\" data-reactid=\"272\"><span data-reactid=\"273\">Stock Price History</span></h3><table class=\"table-qsp-stats Mt(10px)\" data-reactid=\"274\"><tbody data-reactid=\"275\"><tr data-reactid=\"276\"><td data-reactid=\"277\"><span data-reactid=\"278\">Beta</span><!-- react-text: 279 --> <!-- /react-text --><!-- react-text: 280 --><!-- /react-text --><sup aria-label=\"KS_HELP_SUP_undefined\" data-reactid=\"281\"></sup></td><td class=\"Fz(s) Fw(500) Ta(end)\" data-reactid=\"282\">2.28</td></tr><tr data-reactid=\"283\"><td data-reactid=\"284\"><span data-reactid=\"285\">52-Week Change</span><!-- react-text: 286 --> <!-- /react-text --><!-- react-text: 287 --><!-- /react-text --><sup aria-label=\"Data derived from multiple sources or calculated by Yahoo Finance.\" data-reactid=\"288\">3</sup></td><td class=\"Fz(s) Fw(500) Ta(end)\" data-reactid=\"289\">18.99%</td></tr><tr data-reactid=\"290\"><td data-reactid=\"291\"><span data-reactid=\"292\">S&amp;P500 52-Week Change</span><!-- react-text: 293 --> <!-- /react-text --><!-- react-text: 294 --><!-- /react-text --><sup aria-label=\"Data derived from multiple sources or calculated by Yahoo Finance.\" data-reactid=\"295\">3</sup></td><td class=\"Fz(s) Fw(500) Ta(end)\" data-reactid=\"296\">17.68%</td></tr><tr data-reactid=\"297\"><td data-reactid=\"298\"><span data-reactid=\"299\">52 Week High</span><!-- react-text: 300 --> <!-- /react-text --><!-- react-text: 301 --><!-- /react-text --><sup aria-label=\"Data derived from multiple sources or calculated by Yahoo Finance.\" data-reactid=\"302\">3</sup></td><td class=\"Fz(s) Fw(500) Ta(end)\" data-reactid=\"303\">45.33</td></tr><tr data-reactid=\"304\"><td data-reactid=\"305\"><span data-reactid=\"306\">52 Week Low</span><!-- react-text: 307 --> <!-- /react-text --><!-- react-text: 308 --><!-- /react-text --><sup aria-label=\"Data derived from multiple sources or calculated by Yahoo Finance.\" data-reactid=\"309\">3</sup></td><td class=\"Fz(s) Fw(500) Ta(end)\" data-reactid=\"310\">24.44</td></tr><tr data-reactid=\"311\"><td data-reactid=\"312\"><span data-reactid=\"313\">50-Day Moving Average</span><!-- react-text: 314 --> <!-- /react-text --><!-- react-text: 315 --><!-- /react-text --><sup aria-label=\"Data derived from multiple sources or calculated by Yahoo Finance.\" data-reactid=\"316\">3</sup></td><td class=\"Fz(s) Fw(500) Ta(end)\" data-reactid=\"317\">30.78</td></tr><tr data-reactid=\"318\"><td data-reactid=\"319\"><span data-reactid=\"320\">200-Day Moving Average</span><!-- react-text: 321 --> <!-- /react-text --><!-- react-text: 322 --><!-- /react-text --><sup aria-label=\"Data derived from multiple sources or calculated by Yahoo Finance.\" data-reactid=\"323\">3</sup></td><td class=\"Fz(s) Fw(500) Ta(end)\" data-reactid=\"324\">36.79</td></tr></tbody></table></div><div data-reactid=\"325\"><h3 class=\"Fz(s) Mt(20px)\" data-reactid=\"326\"><span data-reactid=\"327\">Share Statistics</span></h3><table class=\"table-qsp-stats Mt(10px)\" data-reactid=\"328\"><tbody data-reactid=\"329\"><tr data-reactid=\"330\"><td data-reactid=\"331\"><span data-reactid=\"332\">Avg Vol (3 month)</span><!-- react-text: 333 --> <!-- /react-text --><!-- react-text: 334 --><!-- /react-text --><sup aria-label=\"Data derived from multiple sources or calculated by Yahoo Finance.\" data-reactid=\"335\">3</sup></td><td class=\"Fz(s) Fw(500) Ta(end)\" data-reactid=\"336\">43.95k</td></tr><tr data-reactid=\"337\"><td data-reactid=\"338\"><span data-reactid=\"339\">Avg Vol (10 day)</span><!-- react-text: 340 --> <!-- /react-text --><!-- react-text: 341 --><!-- /react-text --><sup aria-label=\"Data derived from multiple sources or calculated by Yahoo Finance.\" data-reactid=\"342\">3</sup></td><td class=\"Fz(s) Fw(500) Ta(end)\" data-reactid=\"343\">24.1k</td></tr><tr data-reactid=\"344\"><td data-reactid=\"345\"><span data-reactid=\"346\">Shares Outstanding</span><!-- react-text: 347 --> <!-- /react-text --><!-- react-text: 348 --><!-- /react-text --><sup aria-label=\"Shares outstanding is taken from the most recently filed quarterly or annual report and Market Cap is calculated using shares outstanding.\" data-reactid=\"349\">5</sup></td><td class=\"Fz(s) Fw(500) Ta(end)\" data-reactid=\"350\">14.46B</td></tr><tr data-reactid=\"351\"><td data-reactid=\"352\"><span data-reactid=\"353\">Float</span><!-- react-text: 354 --> <!-- /react-text --><!-- react-text: 355 --><!-- /react-text --><sup aria-label=\"KS_HELP_SUP_undefined\" data-reactid=\"356\"></sup></td><td class=\"Fz(s) Fw(500) Ta(end)\" data-reactid=\"357\">88.17M</td></tr><tr data-reactid=\"358\"><td data-reactid=\"359\"><span data-reactid=\"360\">% Held by Insiders</span><!-- react-text: 361 --> <!-- /react-text --><!-- react-text: 362 --><!-- /react-text --><sup aria-label=\"Data provided by Thomson Reuters.\" data-reactid=\"363\">1</sup></td><td class=\"Fz(s) Fw(500) Ta(end)\" data-reactid=\"364\">0.00%</td></tr><tr data-reactid=\"365\"><td data-reactid=\"366\"><span data-reactid=\"367\">% Held by Institutions</span><!-- react-text: 368 --> <!-- /react-text --><!-- react-text: 369 --><!-- /react-text --><sup aria-label=\"Data provided by Thomson Reuters.\" data-reactid=\"370\">1</sup></td><td class=\"Fz(s) Fw(500) Ta(end)\" data-reactid=\"371\">1.33%</td></tr><tr data-reactid=\"372\"><td data-reactid=\"373\"><span data-reactid=\"374\">Shares Short (Aug 15, 2018)</span><!-- react-text: 375 --> <!-- /react-text --><!-- react-text: 376 --><!-- /react-text --><sup aria-label=\"Data provided by Morningstar, Inc.\" data-reactid=\"377\">4</sup></td><td class=\"Fz(s) Fw(500) Ta(end)\" data-reactid=\"378\">20.06k</td></tr><tr data-reactid=\"379\"><td data-reactid=\"380\"><span data-reactid=\"381\">Short Ratio (Aug 15, 2018)</span><!-- react-text: 382 --> <!-- /react-text --><!-- react-text: 383 --><!-- /react-text --><sup aria-label=\"Data provided by Morningstar, Inc.\" data-reactid=\"384\">4</sup></td><td class=\"Fz(s) Fw(500) Ta(end)\" data-reactid=\"385\">0.19</td></tr><tr data-reactid=\"386\"><td data-reactid=\"387\"><span data-reactid=\"388\">Short % of Float (Aug 15, 2018)</span><!-- react-text: 389 --> <!-- /react-text --><!-- react-text: 390 --><!-- /react-text --><sup aria-label=\"Data provided by Morningstar, Inc.\" data-reactid=\"391\">4</sup></td><td class=\"Fz(s) Fw(500) Ta(end)\" data-reactid=\"392\"><span data-reactid=\"393\">N/A</span></td></tr><tr data-reactid=\"394\"><td data-reactid=\"395\"><span data-reactid=\"396\">Short % of Shares Outstanding (Aug 15, 2018)</span><!-- react-text: 397 --> <!-- /react-text --><!-- react-text: 398 --><!-- /react-text --><sup aria-label=\"Data provided by Morningstar, Inc.\" data-reactid=\"399\">4</sup></td><td class=\"Fz(s) Fw(500) Ta(end)\" data-reactid=\"400\">0.01%</td></tr><tr data-reactid=\"401\"><tddata-reactid=\"402\"><span data-reactid=\"403\">Shares Short (prior month Jul 13, 2018)</span><!-- react-text: 404 --> <!-- /react-text --><!-- react-text: 405 --><!-- /react-text --><sup aria-label=\"Data provided by Morningstar, Inc.\" data-reactid=\"406\">4</sup></td><td class=\"Fz(s) Fw(500) Ta(end)\" data-reactid=\"407\">47.48k</td></tr></tbody></table></div><div data-reactid=\"408\"><h3 class=\"Fz(s) Mt(20px)\" data-reactid=\"409\"><span data-reactid=\"410\">Dividends &amp; Splits</span></h3><table class=\"table-qsp-stats Mt(10px)\" data-reactid=\"411\"><tbody data-reactid=\"412\"><tr data-reactid=\"413\"><td data-reactid=\"414\"><span data-reactid=\"415\">Forward Annual Dividend Rate</span><!-- react-text: 416 --> <!-- /react-text --><!-- react-text: 417 --><!-- /react-text --><sup aria-label=\"Data provided by Morningstar, Inc.\" data-reactid=\"418\">4</sup></td><td class=\"Fz(s) Fw(500) Ta(end)\" data-reactid=\"419\">0.4</td></tr><tr data-reactid=\"420\"><td data-reactid=\"421\"><span data-reactid=\"422\">Forward Annual Dividend Yield</span><!-- react-text: 423 --> <!-- /react-text --><!-- react-text: 424 --><!-- /react-text --><sup aria-label=\"Data provided by Morningstar, Inc.\" data-reactid=\"425\">4</sup></td><td class=\"Fz(s) Fw(500) Ta(end)\" data-reactid=\"426\">1.29%</td></tr><tr data-reactid=\"427\"><td data-reactid=\"428\"><span data-reactid=\"429\">Trailing Annual Dividend Rate</span><!-- react-text: 430 --> <!-- /react-text --><!-- react-text: 431 --><!-- /react-text --><sup aria-label=\"Data derived from multiple sources or calculated by Yahoo Finance.\" data-reactid=\"432\">3</sup></td><td class=\"Fz(s) Fw(500) Ta(end)\" data-reactid=\"433\">0.01</td></tr><tr data-reactid=\"434\"><td data-reactid=\"435\"><span data-reactid=\"436\">Trailing Annual Dividend Yield</span><!-- react-text: 437 --> <!-- /react-text --><!-- react-text: 438 --><!-- /react-text --><sup aria-label=\"Data derived from multiple sources or calculated by Yahoo Finance.\" data-reactid=\"439\">3</sup></td><td class=\"Fz(s) Fw(500) Ta(end)\" data-reactid=\"440\">0.03%</td></tr><tr data-reactid=\"441\"><td data-reactid=\"442\"><span data-reactid=\"443\">5 Year Average Dividend Yield</span><!-- react-text: 444 --> <!-- /react-text --><!-- react-text: 445 --><!-- /react-text --><sup aria-label=\"Data provided by Morningstar, Inc.\" data-reactid=\"446\">4</sup></td><td class=\"Fz(s) Fw(500) Ta(end)\" data-reactid=\"447\"><span data-reactid=\"448\">N/A</span></td></tr><tr data-reactid=\"449\"><td data-reactid=\"450\"><span data-reactid=\"451\">Payout Ratio</span><!-- react-text: 452 --> <!-- /react-text --><!-- react-text: 453 --><!-- /react-text --><sup aria-label=\"Data provided by Morningstar, Inc.\" data-reactid=\"454\">4</sup></td><td class=\"Fz(s) Fw(500) Ta(end)\" data-reactid=\"455\">11.05%</td></tr><tr data-reactid=\"456\"><td data-reactid=\"457\"><span data-reactid=\"458\">Dividend Date</span><!-- react-text: 459 --> <!-- /react-text --><!-- react-text: 460 --><!-- /react-text --><sup aria-label=\"Data derived from multiple sources or calculated by Yahoo Finance.\" data-reactid=\"461\">3</sup></td><td class=\"Fz(s) Fw(500) Ta(end)\" data-reactid=\"462\">Aug 3, 2018</td></tr><tr data-reactid=\"463\"><td data-reactid=\"464\"><span data-reactid=\"465\">Ex-Dividend Date</span><!-- react-text: 466 --><!-- /react-text --><!-- react-text: 467 --><!-- /react-text --><sup aria-label=\"Data provided by Morningstar, Inc.\" data-reactid=\"468\">4</sup></td><td class=\"Fz(s) Fw(500) Ta(end)\" data-reactid=\"469\">Jun 22, 2018</td></tr><tr data-reactid=\"470\"><td data-reactid=\"471\"><span data-reactid=\"472\">Last Split Factor (new per old)</span><!-- react-text: 473 --> <!-- /react-text --><!-- react-text: 474 --><!-- /react-text --><sup aria-label=\"Data provided by EDGAR Online.\" data-reactid=\"475\">2</sup></td><td class=\"Fz(s) Fw(500) Ta(end)\" data-reactid=\"476\">2/1</td></tr><tr data-reactid=\"477\"><td data-reactid=\"478\"><span data-reactid=\"479\">Last Split Date</span><!-- react-text: 480 --> <!--/react-text --><!-- react-text: 481 --><!-- /react-text --><sup aria-label=\"Data derived from multiple sources or calculated by Yahoo Finance.\" data-reactid=\"482\">3</sup></td><td class=\"Fz(s) Fw(500) Ta(end)\" data-reactid=\"483\">Aug 10, 2010</td></tr></tbody></table></div></div></div><div class=\"Cl(b)\" data-reactid=\"484\"></div></div></section>\"\"\""
   ]
  },
  {
   "cell_type": "code",
   "execution_count": 83,
   "metadata": {},
   "outputs": [],
   "source": [
    "ssoup = BeautifulSoup(section, 'lxml')"
   ]
  },
  {
   "cell_type": "code",
   "execution_count": 103,
   "metadata": {},
   "outputs": [
    {
     "data": {
      "text/plain": [
       "<td class=\"Fz(s) Fw(500) Ta(end)\" data-reactid=\"19\">11.38B</td>"
      ]
     },
     "execution_count": 103,
     "metadata": {},
     "output_type": "execute_result"
    }
   ],
   "source": [
    "ssoup.find_all(string='Market Cap (intraday)')[0].parent.parent.next_sibling"
   ]
  },
  {
   "cell_type": "code",
   "execution_count": 104,
   "metadata": {},
   "outputs": [
    {
     "data": {
      "text/plain": [
       "<td class=\"Fz(s) Fw(500) Ta(end)\" data-reactid=\"289\">18.99%</td>"
      ]
     },
     "execution_count": 104,
     "metadata": {},
     "output_type": "execute_result"
    }
   ],
   "source": [
    "ssoup.find_all(string='52-Week Change')[0].parent.parent.next_sibling"
   ]
  },
  {
   "cell_type": "code",
   "execution_count": null,
   "metadata": {},
   "outputs": [],
   "source": []
  },
  {
   "cell_type": "code",
   "execution_count": 142,
   "metadata": {},
   "outputs": [],
   "source": [
    "import pandas as pd"
   ]
  },
  {
   "cell_type": "code",
   "execution_count": 143,
   "metadata": {},
   "outputs": [],
   "source": [
    "tickers = pd.read_csv('YahooFinance/tickers.csv')"
   ]
  },
  {
   "cell_type": "code",
   "execution_count": 145,
   "metadata": {},
   "outputs": [
    {
     "data": {
      "text/html": [
       "<div>\n",
       "<style scoped>\n",
       "    .dataframe tbody tr th:only-of-type {\n",
       "        vertical-align: middle;\n",
       "    }\n",
       "\n",
       "    .dataframe tbody tr th {\n",
       "        vertical-align: top;\n",
       "    }\n",
       "\n",
       "    .dataframe thead th {\n",
       "        text-align: right;\n",
       "    }\n",
       "</style>\n",
       "<table border=\"1\" class=\"dataframe\">\n",
       "  <thead>\n",
       "    <tr style=\"text-align: right;\">\n",
       "      <th></th>\n",
       "      <th>Ticker</th>\n",
       "      <th>Company Name</th>\n",
       "      <th>Sector</th>\n",
       "      <th>Industry</th>\n",
       "      <th>Number of employees</th>\n",
       "      <th>Market Cap ($ millions)</th>\n",
       "      <th>52 Week Price Change In %</th>\n",
       "    </tr>\n",
       "  </thead>\n",
       "  <tbody>\n",
       "    <tr>\n",
       "      <th>0</th>\n",
       "      <td>SMGBY</td>\n",
       "      <td>NaN</td>\n",
       "      <td>NaN</td>\n",
       "      <td>NaN</td>\n",
       "      <td>NaN</td>\n",
       "      <td>NaN</td>\n",
       "      <td>NaN</td>\n",
       "    </tr>\n",
       "    <tr>\n",
       "      <th>1</th>\n",
       "      <td>FRFHF</td>\n",
       "      <td>NaN</td>\n",
       "      <td>NaN</td>\n",
       "      <td>NaN</td>\n",
       "      <td>NaN</td>\n",
       "      <td>NaN</td>\n",
       "      <td>NaN</td>\n",
       "    </tr>\n",
       "    <tr>\n",
       "      <th>2</th>\n",
       "      <td>ZTCOY</td>\n",
       "      <td>NaN</td>\n",
       "      <td>NaN</td>\n",
       "      <td>NaN</td>\n",
       "      <td>NaN</td>\n",
       "      <td>NaN</td>\n",
       "      <td>NaN</td>\n",
       "    </tr>\n",
       "    <tr>\n",
       "      <th>3</th>\n",
       "      <td>TKPYY</td>\n",
       "      <td>NaN</td>\n",
       "      <td>NaN</td>\n",
       "      <td>NaN</td>\n",
       "      <td>NaN</td>\n",
       "      <td>NaN</td>\n",
       "      <td>NaN</td>\n",
       "    </tr>\n",
       "    <tr>\n",
       "      <th>4</th>\n",
       "      <td>SWSKF</td>\n",
       "      <td>NaN</td>\n",
       "      <td>NaN</td>\n",
       "      <td>NaN</td>\n",
       "      <td>NaN</td>\n",
       "      <td>NaN</td>\n",
       "      <td>NaN</td>\n",
       "    </tr>\n",
       "  </tbody>\n",
       "</table>\n",
       "</div>"
      ],
      "text/plain": [
       "  Ticker  Company Name  Sector  Industry  Number of employees  \\\n",
       "0  SMGBY           NaN     NaN       NaN                  NaN   \n",
       "1  FRFHF           NaN     NaN       NaN                  NaN   \n",
       "2  ZTCOY           NaN     NaN       NaN                  NaN   \n",
       "3  TKPYY           NaN     NaN       NaN                  NaN   \n",
       "4  SWSKF           NaN     NaN       NaN                  NaN   \n",
       "\n",
       "   Market Cap ($ millions)  52 Week Price Change In %  \n",
       "0                      NaN                        NaN  \n",
       "1                      NaN                        NaN  \n",
       "2                      NaN                        NaN  \n",
       "3                      NaN                        NaN  \n",
       "4                      NaN                        NaN  "
      ]
     },
     "execution_count": 145,
     "metadata": {},
     "output_type": "execute_result"
    }
   ],
   "source": [
    "tickers.head()"
   ]
  },
  {
   "cell_type": "code",
   "execution_count": 152,
   "metadata": {},
   "outputs": [
    {
     "data": {
      "text/plain": [
       "0     SMGBY\n",
       "1     FRFHF\n",
       "2     ZTCOY\n",
       "3     TKPYY\n",
       "4     SWSKF\n",
       "5       GPS\n",
       "6       SKM\n",
       "7       GIS\n",
       "8        CL\n",
       "9       AEP\n",
       "10      XPO\n",
       "11      CYH\n",
       "12      OMC\n",
       "13      YPF\n",
       "14      EMR\n",
       "15      CDW\n",
       "16      CEA\n",
       "17     SHPG\n",
       "18    TELNY\n",
       "Name: Ticker, dtype: object"
      ]
     },
     "execution_count": 152,
     "metadata": {},
     "output_type": "execute_result"
    }
   ],
   "source": [
    "tickers.Ticker"
   ]
  },
  {
   "cell_type": "code",
   "execution_count": 153,
   "metadata": {},
   "outputs": [
    {
     "data": {
      "text/plain": [
       "0     SMGBY\n",
       "1     FRFHF\n",
       "2     ZTCOY\n",
       "3     TKPYY\n",
       "4     SWSKF\n",
       "5       GPS\n",
       "6       SKM\n",
       "7       GIS\n",
       "8        CL\n",
       "9       AEP\n",
       "10      XPO\n",
       "11      CYH\n",
       "12      OMC\n",
       "13      YPF\n",
       "14      EMR\n",
       "15      CDW\n",
       "16      CEA\n",
       "17     SHPG\n",
       "18    TELNY\n",
       "Name: Ticker, dtype: object"
      ]
     },
     "execution_count": 153,
     "metadata": {},
     "output_type": "execute_result"
    }
   ],
   "source": [
    "tickers['Ticker']"
   ]
  },
  {
   "cell_type": "code",
   "execution_count": 168,
   "metadata": {},
   "outputs": [
    {
     "data": {
      "text/plain": [
       "Ticker          FRFHF\n",
       "Company Name      NaN\n",
       "Sector            NaN\n",
       "Industry          NaN\n",
       "Name: 1, dtype: object"
      ]
     },
     "execution_count": 168,
     "metadata": {},
     "output_type": "execute_result"
    }
   ],
   "source": [
    "tickers.loc[1, 'Ticker':'Industry']"
   ]
  },
  {
   "cell_type": "code",
   "execution_count": 179,
   "metadata": {},
   "outputs": [
    {
     "data": {
      "text/html": [
       "<div>\n",
       "<style scoped>\n",
       "    .dataframe tbody tr th:only-of-type {\n",
       "        vertical-align: middle;\n",
       "    }\n",
       "\n",
       "    .dataframe tbody tr th {\n",
       "        vertical-align: top;\n",
       "    }\n",
       "\n",
       "    .dataframe thead th {\n",
       "        text-align: right;\n",
       "    }\n",
       "</style>\n",
       "<table border=\"1\" class=\"dataframe\">\n",
       "  <thead>\n",
       "    <tr style=\"text-align: right;\">\n",
       "      <th></th>\n",
       "      <th>Ticker</th>\n",
       "      <th>Company Name</th>\n",
       "      <th>Sector</th>\n",
       "      <th>Industry</th>\n",
       "    </tr>\n",
       "  </thead>\n",
       "  <tbody>\n",
       "    <tr>\n",
       "      <th>0</th>\n",
       "      <td>SMGBY</td>\n",
       "      <td>NaN</td>\n",
       "      <td>NaN</td>\n",
       "      <td>NaN</td>\n",
       "    </tr>\n",
       "  </tbody>\n",
       "</table>\n",
       "</div>"
      ],
      "text/plain": [
       "  Ticker  Company Name  Sector  Industry\n",
       "0  SMGBY           NaN     NaN       NaN"
      ]
     },
     "execution_count": 179,
     "metadata": {},
     "output_type": "execute_result"
    }
   ],
   "source": [
    "tickers.iloc[0:1, 0:4]"
   ]
  },
  {
   "cell_type": "code",
   "execution_count": 180,
   "metadata": {},
   "outputs": [
    {
     "data": {
      "text/html": [
       "<div>\n",
       "<style scoped>\n",
       "    .dataframe tbody tr th:only-of-type {\n",
       "        vertical-align: middle;\n",
       "    }\n",
       "\n",
       "    .dataframe tbody tr th {\n",
       "        vertical-align: top;\n",
       "    }\n",
       "\n",
       "    .dataframe thead th {\n",
       "        text-align: right;\n",
       "    }\n",
       "</style>\n",
       "<table border=\"1\" class=\"dataframe\">\n",
       "  <thead>\n",
       "    <tr style=\"text-align: right;\">\n",
       "      <th></th>\n",
       "      <th>Ticker</th>\n",
       "      <th>Company Name</th>\n",
       "      <th>Sector</th>\n",
       "      <th>Industry</th>\n",
       "      <th>Number of employees</th>\n",
       "      <th>Market Cap ($ millions)</th>\n",
       "      <th>52 Week Price Change In %</th>\n",
       "    </tr>\n",
       "  </thead>\n",
       "  <tbody>\n",
       "    <tr>\n",
       "      <th>0</th>\n",
       "      <td>SMGBY</td>\n",
       "      <td>NaN</td>\n",
       "      <td>NaN</td>\n",
       "      <td>NaN</td>\n",
       "      <td>NaN</td>\n",
       "      <td>NaN</td>\n",
       "      <td>NaN</td>\n",
       "    </tr>\n",
       "    <tr>\n",
       "      <th>1</th>\n",
       "      <td>FRFHF</td>\n",
       "      <td>NaN</td>\n",
       "      <td>NaN</td>\n",
       "      <td>NaN</td>\n",
       "      <td>NaN</td>\n",
       "      <td>NaN</td>\n",
       "      <td>NaN</td>\n",
       "    </tr>\n",
       "    <tr>\n",
       "      <th>2</th>\n",
       "      <td>ZTCOY</td>\n",
       "      <td>NaN</td>\n",
       "      <td>NaN</td>\n",
       "      <td>NaN</td>\n",
       "      <td>NaN</td>\n",
       "      <td>NaN</td>\n",
       "      <td>NaN</td>\n",
       "    </tr>\n",
       "    <tr>\n",
       "      <th>3</th>\n",
       "      <td>TKPYY</td>\n",
       "      <td>NaN</td>\n",
       "      <td>NaN</td>\n",
       "      <td>NaN</td>\n",
       "      <td>NaN</td>\n",
       "      <td>NaN</td>\n",
       "      <td>NaN</td>\n",
       "    </tr>\n",
       "    <tr>\n",
       "      <th>4</th>\n",
       "      <td>SWSKF</td>\n",
       "      <td>NaN</td>\n",
       "      <td>NaN</td>\n",
       "      <td>NaN</td>\n",
       "      <td>NaN</td>\n",
       "      <td>NaN</td>\n",
       "      <td>NaN</td>\n",
       "    </tr>\n",
       "  </tbody>\n",
       "</table>\n",
       "</div>"
      ],
      "text/plain": [
       "  Ticker  Company Name  Sector  Industry  Number of employees  \\\n",
       "0  SMGBY           NaN     NaN       NaN                  NaN   \n",
       "1  FRFHF           NaN     NaN       NaN                  NaN   \n",
       "2  ZTCOY           NaN     NaN       NaN                  NaN   \n",
       "3  TKPYY           NaN     NaN       NaN                  NaN   \n",
       "4  SWSKF           NaN     NaN       NaN                  NaN   \n",
       "\n",
       "   Market Cap ($ millions)  52 Week Price Change In %  \n",
       "0                      NaN                        NaN  \n",
       "1                      NaN                        NaN  \n",
       "2                      NaN                        NaN  \n",
       "3                      NaN                        NaN  \n",
       "4                      NaN                        NaN  "
      ]
     },
     "execution_count": 180,
     "metadata": {},
     "output_type": "execute_result"
    }
   ],
   "source": [
    "tickers.head()"
   ]
  },
  {
   "cell_type": "code",
   "execution_count": 185,
   "metadata": {},
   "outputs": [],
   "source": [
    "tickers = tickers.drop(0)"
   ]
  },
  {
   "cell_type": "code",
   "execution_count": 186,
   "metadata": {},
   "outputs": [
    {
     "data": {
      "text/html": [
       "<div>\n",
       "<style scoped>\n",
       "    .dataframe tbody tr th:only-of-type {\n",
       "        vertical-align: middle;\n",
       "    }\n",
       "\n",
       "    .dataframe tbody tr th {\n",
       "        vertical-align: top;\n",
       "    }\n",
       "\n",
       "    .dataframe thead th {\n",
       "        text-align: right;\n",
       "    }\n",
       "</style>\n",
       "<table border=\"1\" class=\"dataframe\">\n",
       "  <thead>\n",
       "    <tr style=\"text-align: right;\">\n",
       "      <th></th>\n",
       "      <th>Ticker</th>\n",
       "      <th>Company Name</th>\n",
       "      <th>Sector</th>\n",
       "      <th>Industry</th>\n",
       "      <th>Number of employees</th>\n",
       "      <th>Market Cap ($ millions)</th>\n",
       "      <th>52 Week Price Change In %</th>\n",
       "    </tr>\n",
       "  </thead>\n",
       "  <tbody>\n",
       "    <tr>\n",
       "      <th>1</th>\n",
       "      <td>FRFHF</td>\n",
       "      <td>NaN</td>\n",
       "      <td>NaN</td>\n",
       "      <td>NaN</td>\n",
       "      <td>NaN</td>\n",
       "      <td>NaN</td>\n",
       "      <td>NaN</td>\n",
       "    </tr>\n",
       "    <tr>\n",
       "      <th>2</th>\n",
       "      <td>ZTCOY</td>\n",
       "      <td>NaN</td>\n",
       "      <td>NaN</td>\n",
       "      <td>NaN</td>\n",
       "      <td>NaN</td>\n",
       "      <td>NaN</td>\n",
       "      <td>NaN</td>\n",
       "    </tr>\n",
       "    <tr>\n",
       "      <th>3</th>\n",
       "      <td>TKPYY</td>\n",
       "      <td>NaN</td>\n",
       "      <td>NaN</td>\n",
       "      <td>NaN</td>\n",
       "      <td>NaN</td>\n",
       "      <td>NaN</td>\n",
       "      <td>NaN</td>\n",
       "    </tr>\n",
       "    <tr>\n",
       "      <th>4</th>\n",
       "      <td>SWSKF</td>\n",
       "      <td>NaN</td>\n",
       "      <td>NaN</td>\n",
       "      <td>NaN</td>\n",
       "      <td>NaN</td>\n",
       "      <td>NaN</td>\n",
       "      <td>NaN</td>\n",
       "    </tr>\n",
       "    <tr>\n",
       "      <th>5</th>\n",
       "      <td>GPS</td>\n",
       "      <td>NaN</td>\n",
       "      <td>NaN</td>\n",
       "      <td>NaN</td>\n",
       "      <td>NaN</td>\n",
       "      <td>NaN</td>\n",
       "      <td>NaN</td>\n",
       "    </tr>\n",
       "    <tr>\n",
       "      <th>6</th>\n",
       "      <td>SKM</td>\n",
       "      <td>NaN</td>\n",
       "      <td>NaN</td>\n",
       "      <td>NaN</td>\n",
       "      <td>NaN</td>\n",
       "      <td>NaN</td>\n",
       "      <td>NaN</td>\n",
       "    </tr>\n",
       "    <tr>\n",
       "      <th>7</th>\n",
       "      <td>GIS</td>\n",
       "      <td>NaN</td>\n",
       "      <td>NaN</td>\n",
       "      <td>NaN</td>\n",
       "      <td>NaN</td>\n",
       "      <td>NaN</td>\n",
       "      <td>NaN</td>\n",
       "    </tr>\n",
       "    <tr>\n",
       "      <th>8</th>\n",
       "      <td>CL</td>\n",
       "      <td>NaN</td>\n",
       "      <td>NaN</td>\n",
       "      <td>NaN</td>\n",
       "      <td>NaN</td>\n",
       "      <td>NaN</td>\n",
       "      <td>NaN</td>\n",
       "    </tr>\n",
       "    <tr>\n",
       "      <th>9</th>\n",
       "      <td>AEP</td>\n",
       "      <td>NaN</td>\n",
       "      <td>NaN</td>\n",
       "      <td>NaN</td>\n",
       "      <td>NaN</td>\n",
       "      <td>NaN</td>\n",
       "      <td>NaN</td>\n",
       "    </tr>\n",
       "    <tr>\n",
       "      <th>10</th>\n",
       "      <td>XPO</td>\n",
       "      <td>NaN</td>\n",
       "      <td>NaN</td>\n",
       "      <td>NaN</td>\n",
       "      <td>NaN</td>\n",
       "      <td>NaN</td>\n",
       "      <td>NaN</td>\n",
       "    </tr>\n",
       "    <tr>\n",
       "      <th>11</th>\n",
       "      <td>CYH</td>\n",
       "      <td>NaN</td>\n",
       "      <td>NaN</td>\n",
       "      <td>NaN</td>\n",
       "      <td>NaN</td>\n",
       "      <td>NaN</td>\n",
       "      <td>NaN</td>\n",
       "    </tr>\n",
       "    <tr>\n",
       "      <th>12</th>\n",
       "      <td>OMC</td>\n",
       "      <td>NaN</td>\n",
       "      <td>NaN</td>\n",
       "      <td>NaN</td>\n",
       "      <td>NaN</td>\n",
       "      <td>NaN</td>\n",
       "      <td>NaN</td>\n",
       "    </tr>\n",
       "    <tr>\n",
       "      <th>13</th>\n",
       "      <td>YPF</td>\n",
       "      <td>NaN</td>\n",
       "      <td>NaN</td>\n",
       "      <td>NaN</td>\n",
       "      <td>NaN</td>\n",
       "      <td>NaN</td>\n",
       "      <td>NaN</td>\n",
       "    </tr>\n",
       "    <tr>\n",
       "      <th>14</th>\n",
       "      <td>EMR</td>\n",
       "      <td>NaN</td>\n",
       "      <td>NaN</td>\n",
       "      <td>NaN</td>\n",
       "      <td>NaN</td>\n",
       "      <td>NaN</td>\n",
       "      <td>NaN</td>\n",
       "    </tr>\n",
       "    <tr>\n",
       "      <th>15</th>\n",
       "      <td>CDW</td>\n",
       "      <td>NaN</td>\n",
       "      <td>NaN</td>\n",
       "      <td>NaN</td>\n",
       "      <td>NaN</td>\n",
       "      <td>NaN</td>\n",
       "      <td>NaN</td>\n",
       "    </tr>\n",
       "    <tr>\n",
       "      <th>16</th>\n",
       "      <td>CEA</td>\n",
       "      <td>NaN</td>\n",
       "      <td>NaN</td>\n",
       "      <td>NaN</td>\n",
       "      <td>NaN</td>\n",
       "      <td>NaN</td>\n",
       "      <td>NaN</td>\n",
       "    </tr>\n",
       "    <tr>\n",
       "      <th>17</th>\n",
       "      <td>SHPG</td>\n",
       "      <td>NaN</td>\n",
       "      <td>NaN</td>\n",
       "      <td>NaN</td>\n",
       "      <td>NaN</td>\n",
       "      <td>NaN</td>\n",
       "      <td>NaN</td>\n",
       "    </tr>\n",
       "    <tr>\n",
       "      <th>18</th>\n",
       "      <td>TELNY</td>\n",
       "      <td>NaN</td>\n",
       "      <td>NaN</td>\n",
       "      <td>NaN</td>\n",
       "      <td>NaN</td>\n",
       "      <td>NaN</td>\n",
       "      <td>NaN</td>\n",
       "    </tr>\n",
       "  </tbody>\n",
       "</table>\n",
       "</div>"
      ],
      "text/plain": [
       "   Ticker  Company Name  Sector  Industry  Number of employees  \\\n",
       "1   FRFHF           NaN     NaN       NaN                  NaN   \n",
       "2   ZTCOY           NaN     NaN       NaN                  NaN   \n",
       "3   TKPYY           NaN     NaN       NaN                  NaN   \n",
       "4   SWSKF           NaN     NaN       NaN                  NaN   \n",
       "5     GPS           NaN     NaN       NaN                  NaN   \n",
       "6     SKM           NaN     NaN       NaN                  NaN   \n",
       "7     GIS           NaN     NaN       NaN                  NaN   \n",
       "8      CL           NaN     NaN       NaN                  NaN   \n",
       "9     AEP           NaN     NaN       NaN                  NaN   \n",
       "10    XPO           NaN     NaN       NaN                  NaN   \n",
       "11    CYH           NaN     NaN       NaN                  NaN   \n",
       "12    OMC           NaN     NaN       NaN                  NaN   \n",
       "13    YPF           NaN     NaN       NaN                  NaN   \n",
       "14    EMR           NaN     NaN       NaN                  NaN   \n",
       "15    CDW           NaN     NaN       NaN                  NaN   \n",
       "16    CEA           NaN     NaN       NaN                  NaN   \n",
       "17   SHPG           NaN     NaN       NaN                  NaN   \n",
       "18  TELNY           NaN     NaN       NaN                  NaN   \n",
       "\n",
       "    Market Cap ($ millions)  52 Week Price Change In %  \n",
       "1                       NaN                        NaN  \n",
       "2                       NaN                        NaN  \n",
       "3                       NaN                        NaN  \n",
       "4                       NaN                        NaN  \n",
       "5                       NaN                        NaN  \n",
       "6                       NaN                        NaN  \n",
       "7                       NaN                        NaN  \n",
       "8                       NaN                        NaN  \n",
       "9                       NaN                        NaN  \n",
       "10                      NaN                        NaN  \n",
       "11                      NaN                        NaN  \n",
       "12                      NaN                        NaN  \n",
       "13                      NaN                        NaN  \n",
       "14                      NaN                        NaN  \n",
       "15                      NaN                        NaN  \n",
       "16                      NaN                        NaN  \n",
       "17                      NaN                        NaN  \n",
       "18                      NaN                        NaN  "
      ]
     },
     "execution_count": 186,
     "metadata": {},
     "output_type": "execute_result"
    }
   ],
   "source": [
    "tickers"
   ]
  },
  {
   "cell_type": "code",
   "execution_count": 235,
   "metadata": {},
   "outputs": [
    {
     "data": {
      "text/plain": [
       "Ticker                       FRFHF\n",
       "Company Name                   NaN\n",
       "Sector                         NaN\n",
       "Industry                       NaN\n",
       "Number of employees            NaN\n",
       "Market Cap ($ millions)        NaN\n",
       "52 Week Price Change In %      NaN\n",
       "Name: 1, dtype: object"
      ]
     },
     "execution_count": 235,
     "metadata": {},
     "output_type": "execute_result"
    }
   ],
   "source": [
    "tickers.iloc[0]"
   ]
  },
  {
   "cell_type": "code",
   "execution_count": 190,
   "metadata": {},
   "outputs": [
    {
     "data": {
      "text/plain": [
       "Ticker                       FRFHF\n",
       "Company Name                   NaN\n",
       "Sector                         NaN\n",
       "Industry                       NaN\n",
       "Number of employees            NaN\n",
       "Market Cap ($ millions)        NaN\n",
       "52 Week Price Change In %      NaN\n",
       "Name: 1, dtype: object"
      ]
     },
     "execution_count": 190,
     "metadata": {},
     "output_type": "execute_result"
    }
   ],
   "source": [
    "tickers.loc[1]"
   ]
  },
  {
   "cell_type": "code",
   "execution_count": 224,
   "metadata": {},
   "outputs": [],
   "source": [
    "greeting = 'Hello'"
   ]
  },
  {
   "cell_type": "code",
   "execution_count": 234,
   "metadata": {},
   "outputs": [
    {
     "name": "stdout",
     "output_type": "stream",
     "text": [
      "Hello\n",
      "None\n"
     ]
    }
   ],
   "source": [
    "print(print(greeting))"
   ]
  },
  {
   "cell_type": "code",
   "execution_count": 239,
   "metadata": {},
   "outputs": [],
   "source": [
    "tickers['Company Name'] = 'Unknown'"
   ]
  },
  {
   "cell_type": "code",
   "execution_count": 237,
   "metadata": {},
   "outputs": [
    {
     "data": {
      "text/html": [
       "<div>\n",
       "<style scoped>\n",
       "    .dataframe tbody tr th:only-of-type {\n",
       "        vertical-align: middle;\n",
       "    }\n",
       "\n",
       "    .dataframe tbody tr th {\n",
       "        vertical-align: top;\n",
       "    }\n",
       "\n",
       "    .dataframe thead th {\n",
       "        text-align: right;\n",
       "    }\n",
       "</style>\n",
       "<table border=\"1\" class=\"dataframe\">\n",
       "  <thead>\n",
       "    <tr style=\"text-align: right;\">\n",
       "      <th></th>\n",
       "      <th>Ticker</th>\n",
       "      <th>Company Name</th>\n",
       "      <th>Sector</th>\n",
       "      <th>Industry</th>\n",
       "      <th>Number of employees</th>\n",
       "      <th>Market Cap ($ millions)</th>\n",
       "      <th>52 Week Price Change In %</th>\n",
       "    </tr>\n",
       "  </thead>\n",
       "  <tbody>\n",
       "    <tr>\n",
       "      <th>1</th>\n",
       "      <td>FRFHF</td>\n",
       "      <td>Unknown</td>\n",
       "      <td>NaN</td>\n",
       "      <td>NaN</td>\n",
       "      <td>NaN</td>\n",
       "      <td>NaN</td>\n",
       "      <td>NaN</td>\n",
       "    </tr>\n",
       "    <tr>\n",
       "      <th>2</th>\n",
       "      <td>ZTCOY</td>\n",
       "      <td>Unknown</td>\n",
       "      <td>NaN</td>\n",
       "      <td>NaN</td>\n",
       "      <td>NaN</td>\n",
       "      <td>NaN</td>\n",
       "      <td>NaN</td>\n",
       "    </tr>\n",
       "    <tr>\n",
       "      <th>3</th>\n",
       "      <td>TKPYY</td>\n",
       "      <td>Unknown</td>\n",
       "      <td>NaN</td>\n",
       "      <td>NaN</td>\n",
       "      <td>NaN</td>\n",
       "      <td>NaN</td>\n",
       "      <td>NaN</td>\n",
       "    </tr>\n",
       "    <tr>\n",
       "      <th>4</th>\n",
       "      <td>SWSKF</td>\n",
       "      <td>Unknown</td>\n",
       "      <td>NaN</td>\n",
       "      <td>NaN</td>\n",
       "      <td>NaN</td>\n",
       "      <td>NaN</td>\n",
       "      <td>NaN</td>\n",
       "    </tr>\n",
       "    <tr>\n",
       "      <th>5</th>\n",
       "      <td>GPS</td>\n",
       "      <td>Unknown</td>\n",
       "      <td>NaN</td>\n",
       "      <td>NaN</td>\n",
       "      <td>NaN</td>\n",
       "      <td>NaN</td>\n",
       "      <td>NaN</td>\n",
       "    </tr>\n",
       "    <tr>\n",
       "      <th>6</th>\n",
       "      <td>SKM</td>\n",
       "      <td>Unknown</td>\n",
       "      <td>NaN</td>\n",
       "      <td>NaN</td>\n",
       "      <td>NaN</td>\n",
       "      <td>NaN</td>\n",
       "      <td>NaN</td>\n",
       "    </tr>\n",
       "    <tr>\n",
       "      <th>7</th>\n",
       "      <td>GIS</td>\n",
       "      <td>Unknown</td>\n",
       "      <td>NaN</td>\n",
       "      <td>NaN</td>\n",
       "      <td>NaN</td>\n",
       "      <td>NaN</td>\n",
       "      <td>NaN</td>\n",
       "    </tr>\n",
       "    <tr>\n",
       "      <th>8</th>\n",
       "      <td>CL</td>\n",
       "      <td>Unknown</td>\n",
       "      <td>NaN</td>\n",
       "      <td>NaN</td>\n",
       "      <td>NaN</td>\n",
       "      <td>NaN</td>\n",
       "      <td>NaN</td>\n",
       "    </tr>\n",
       "    <tr>\n",
       "      <th>9</th>\n",
       "      <td>AEP</td>\n",
       "      <td>Unknown</td>\n",
       "      <td>NaN</td>\n",
       "      <td>NaN</td>\n",
       "      <td>NaN</td>\n",
       "      <td>NaN</td>\n",
       "      <td>NaN</td>\n",
       "    </tr>\n",
       "    <tr>\n",
       "      <th>10</th>\n",
       "      <td>XPO</td>\n",
       "      <td>Unknown</td>\n",
       "      <td>NaN</td>\n",
       "      <td>NaN</td>\n",
       "      <td>NaN</td>\n",
       "      <td>NaN</td>\n",
       "      <td>NaN</td>\n",
       "    </tr>\n",
       "    <tr>\n",
       "      <th>11</th>\n",
       "      <td>CYH</td>\n",
       "      <td>Unknown</td>\n",
       "      <td>NaN</td>\n",
       "      <td>NaN</td>\n",
       "      <td>NaN</td>\n",
       "      <td>NaN</td>\n",
       "      <td>NaN</td>\n",
       "    </tr>\n",
       "    <tr>\n",
       "      <th>12</th>\n",
       "      <td>OMC</td>\n",
       "      <td>Unknown</td>\n",
       "      <td>NaN</td>\n",
       "      <td>NaN</td>\n",
       "      <td>NaN</td>\n",
       "      <td>NaN</td>\n",
       "      <td>NaN</td>\n",
       "    </tr>\n",
       "    <tr>\n",
       "      <th>13</th>\n",
       "      <td>YPF</td>\n",
       "      <td>Unknown</td>\n",
       "      <td>NaN</td>\n",
       "      <td>NaN</td>\n",
       "      <td>NaN</td>\n",
       "      <td>NaN</td>\n",
       "      <td>NaN</td>\n",
       "    </tr>\n",
       "    <tr>\n",
       "      <th>14</th>\n",
       "      <td>EMR</td>\n",
       "      <td>Unknown</td>\n",
       "      <td>NaN</td>\n",
       "      <td>NaN</td>\n",
       "      <td>NaN</td>\n",
       "      <td>NaN</td>\n",
       "      <td>NaN</td>\n",
       "    </tr>\n",
       "    <tr>\n",
       "      <th>15</th>\n",
       "      <td>CDW</td>\n",
       "      <td>Unknown</td>\n",
       "      <td>NaN</td>\n",
       "      <td>NaN</td>\n",
       "      <td>NaN</td>\n",
       "      <td>NaN</td>\n",
       "      <td>NaN</td>\n",
       "    </tr>\n",
       "    <tr>\n",
       "      <th>16</th>\n",
       "      <td>CEA</td>\n",
       "      <td>Unknown</td>\n",
       "      <td>NaN</td>\n",
       "      <td>NaN</td>\n",
       "      <td>NaN</td>\n",
       "      <td>NaN</td>\n",
       "      <td>NaN</td>\n",
       "    </tr>\n",
       "    <tr>\n",
       "      <th>17</th>\n",
       "      <td>SHPG</td>\n",
       "      <td>Unknown</td>\n",
       "      <td>NaN</td>\n",
       "      <td>NaN</td>\n",
       "      <td>NaN</td>\n",
       "      <td>NaN</td>\n",
       "      <td>NaN</td>\n",
       "    </tr>\n",
       "    <tr>\n",
       "      <th>18</th>\n",
       "      <td>TELNY</td>\n",
       "      <td>Unknown</td>\n",
       "      <td>NaN</td>\n",
       "      <td>NaN</td>\n",
       "      <td>NaN</td>\n",
       "      <td>NaN</td>\n",
       "      <td>NaN</td>\n",
       "    </tr>\n",
       "  </tbody>\n",
       "</table>\n",
       "</div>"
      ],
      "text/plain": [
       "   Ticker Company Name  Sector  Industry  Number of employees  \\\n",
       "1   FRFHF      Unknown     NaN       NaN                  NaN   \n",
       "2   ZTCOY      Unknown     NaN       NaN                  NaN   \n",
       "3   TKPYY      Unknown     NaN       NaN                  NaN   \n",
       "4   SWSKF      Unknown     NaN       NaN                  NaN   \n",
       "5     GPS      Unknown     NaN       NaN                  NaN   \n",
       "6     SKM      Unknown     NaN       NaN                  NaN   \n",
       "7     GIS      Unknown     NaN       NaN                  NaN   \n",
       "8      CL      Unknown     NaN       NaN                  NaN   \n",
       "9     AEP      Unknown     NaN       NaN                  NaN   \n",
       "10    XPO      Unknown     NaN       NaN                  NaN   \n",
       "11    CYH      Unknown     NaN       NaN                  NaN   \n",
       "12    OMC      Unknown     NaN       NaN                  NaN   \n",
       "13    YPF      Unknown     NaN       NaN                  NaN   \n",
       "14    EMR      Unknown     NaN       NaN                  NaN   \n",
       "15    CDW      Unknown     NaN       NaN                  NaN   \n",
       "16    CEA      Unknown     NaN       NaN                  NaN   \n",
       "17   SHPG      Unknown     NaN       NaN                  NaN   \n",
       "18  TELNY      Unknown     NaN       NaN                  NaN   \n",
       "\n",
       "    Market Cap ($ millions)  52 Week Price Change In %  \n",
       "1                       NaN                        NaN  \n",
       "2                       NaN                        NaN  \n",
       "3                       NaN                        NaN  \n",
       "4                       NaN                        NaN  \n",
       "5                       NaN                        NaN  \n",
       "6                       NaN                        NaN  \n",
       "7                       NaN                        NaN  \n",
       "8                       NaN                        NaN  \n",
       "9                       NaN                        NaN  \n",
       "10                      NaN                        NaN  \n",
       "11                      NaN                        NaN  \n",
       "12                      NaN                        NaN  \n",
       "13                      NaN                        NaN  \n",
       "14                      NaN                        NaN  \n",
       "15                      NaN                        NaN  \n",
       "16                      NaN                        NaN  \n",
       "17                      NaN                        NaN  \n",
       "18                      NaN                        NaN  "
      ]
     },
     "execution_count": 237,
     "metadata": {},
     "output_type": "execute_result"
    }
   ],
   "source": [
    "tickers"
   ]
  },
  {
   "cell_type": "code",
   "execution_count": 259,
   "metadata": {},
   "outputs": [
    {
     "data": {
      "text/plain": [
       "pandas.core.frame.DataFrame"
      ]
     },
     "execution_count": 259,
     "metadata": {},
     "output_type": "execute_result"
    }
   ],
   "source": [
    "type(tickers[tickers['Ticker'] == 'FRFHF'])"
   ]
  },
  {
   "cell_type": "code",
   "execution_count": 241,
   "metadata": {},
   "outputs": [
    {
     "data": {
      "text/plain": [
       "pandas.core.series.Series"
      ]
     },
     "execution_count": 241,
     "metadata": {},
     "output_type": "execute_result"
    }
   ],
   "source": [
    "type(tickers['Ticker'] == 'FRFHF')"
   ]
  },
  {
   "cell_type": "code",
   "execution_count": 275,
   "metadata": {},
   "outputs": [],
   "source": [
    "FRFHF = tickers.iloc[0]"
   ]
  },
  {
   "cell_type": "code",
   "execution_count": 280,
   "metadata": {},
   "outputs": [
    {
     "ename": "IndexingError",
     "evalue": "Too many indexers",
     "output_type": "error",
     "traceback": [
      "\u001b[0;31m---------------------------------------------------------------------------\u001b[0m",
      "\u001b[0;31mIndexingError\u001b[0m                             Traceback (most recent call last)",
      "\u001b[0;32m<ipython-input-280-184a66b64feb>\u001b[0m in \u001b[0;36m<module>\u001b[0;34m()\u001b[0m\n\u001b[0;32m----> 1\u001b[0;31m \u001b[0mFRFHF\u001b[0m\u001b[0;34m.\u001b[0m\u001b[0mloc\u001b[0m\u001b[0;34m[\u001b[0m\u001b[0;34m'Ticker'\u001b[0m\u001b[0;34m,\u001b[0m \u001b[0;36m0\u001b[0m\u001b[0;34m]\u001b[0m\u001b[0;34m\u001b[0m\u001b[0m\n\u001b[0m",
      "\u001b[0;32m~/Library/Python/3.6/lib/python/site-packages/pandas/core/indexing.py\u001b[0m in \u001b[0;36m__getitem__\u001b[0;34m(self, key)\u001b[0m\n\u001b[1;32m   1365\u001b[0m             \u001b[0;32mexcept\u001b[0m \u001b[0;34m(\u001b[0m\u001b[0mKeyError\u001b[0m\u001b[0;34m,\u001b[0m \u001b[0mIndexError\u001b[0m\u001b[0;34m)\u001b[0m\u001b[0;34m:\u001b[0m\u001b[0;34m\u001b[0m\u001b[0m\n\u001b[1;32m   1366\u001b[0m                 \u001b[0;32mpass\u001b[0m\u001b[0;34m\u001b[0m\u001b[0m\n\u001b[0;32m-> 1367\u001b[0;31m             \u001b[0;32mreturn\u001b[0m \u001b[0mself\u001b[0m\u001b[0;34m.\u001b[0m\u001b[0m_getitem_tuple\u001b[0m\u001b[0;34m(\u001b[0m\u001b[0mkey\u001b[0m\u001b[0;34m)\u001b[0m\u001b[0;34m\u001b[0m\u001b[0m\n\u001b[0m\u001b[1;32m   1368\u001b[0m         \u001b[0;32melse\u001b[0m\u001b[0;34m:\u001b[0m\u001b[0;34m\u001b[0m\u001b[0m\n\u001b[1;32m   1369\u001b[0m             \u001b[0;31m# we by definition only have the 0th axis\u001b[0m\u001b[0;34m\u001b[0m\u001b[0;34m\u001b[0m\u001b[0m\n",
      "\u001b[0;32m~/Library/Python/3.6/lib/python/site-packages/pandas/core/indexing.py\u001b[0m in \u001b[0;36m_getitem_tuple\u001b[0;34m(self, tup)\u001b[0m\n\u001b[1;32m    861\u001b[0m \u001b[0;34m\u001b[0m\u001b[0m\n\u001b[1;32m    862\u001b[0m         \u001b[0;31m# no multi-index, so validate all of the indexers\u001b[0m\u001b[0;34m\u001b[0m\u001b[0;34m\u001b[0m\u001b[0m\n\u001b[0;32m--> 863\u001b[0;31m         \u001b[0mself\u001b[0m\u001b[0;34m.\u001b[0m\u001b[0m_has_valid_tuple\u001b[0m\u001b[0;34m(\u001b[0m\u001b[0mtup\u001b[0m\u001b[0;34m)\u001b[0m\u001b[0;34m\u001b[0m\u001b[0m\n\u001b[0m\u001b[1;32m    864\u001b[0m \u001b[0;34m\u001b[0m\u001b[0m\n\u001b[1;32m    865\u001b[0m         \u001b[0;31m# ugly hack for GH #836\u001b[0m\u001b[0;34m\u001b[0m\u001b[0;34m\u001b[0m\u001b[0m\n",
      "\u001b[0;32m~/Library/Python/3.6/lib/python/site-packages/pandas/core/indexing.py\u001b[0m in \u001b[0;36m_has_valid_tuple\u001b[0;34m(self, key)\u001b[0m\n\u001b[1;32m    201\u001b[0m         \u001b[0;32mfor\u001b[0m \u001b[0mi\u001b[0m\u001b[0;34m,\u001b[0m \u001b[0mk\u001b[0m \u001b[0;32min\u001b[0m \u001b[0menumerate\u001b[0m\u001b[0;34m(\u001b[0m\u001b[0mkey\u001b[0m\u001b[0;34m)\u001b[0m\u001b[0;34m:\u001b[0m\u001b[0;34m\u001b[0m\u001b[0m\n\u001b[1;32m    202\u001b[0m             \u001b[0;32mif\u001b[0m \u001b[0mi\u001b[0m \u001b[0;34m>=\u001b[0m \u001b[0mself\u001b[0m\u001b[0;34m.\u001b[0m\u001b[0mobj\u001b[0m\u001b[0;34m.\u001b[0m\u001b[0mndim\u001b[0m\u001b[0;34m:\u001b[0m\u001b[0;34m\u001b[0m\u001b[0m\n\u001b[0;32m--> 203\u001b[0;31m                 \u001b[0;32mraise\u001b[0m \u001b[0mIndexingError\u001b[0m\u001b[0;34m(\u001b[0m\u001b[0;34m'Too many indexers'\u001b[0m\u001b[0;34m)\u001b[0m\u001b[0;34m\u001b[0m\u001b[0m\n\u001b[0m\u001b[1;32m    204\u001b[0m             \u001b[0;32mif\u001b[0m \u001b[0;32mnot\u001b[0m \u001b[0mself\u001b[0m\u001b[0;34m.\u001b[0m\u001b[0m_has_valid_type\u001b[0m\u001b[0;34m(\u001b[0m\u001b[0mk\u001b[0m\u001b[0;34m,\u001b[0m \u001b[0mi\u001b[0m\u001b[0;34m)\u001b[0m\u001b[0;34m:\u001b[0m\u001b[0;34m\u001b[0m\u001b[0m\n\u001b[1;32m    205\u001b[0m                 raise ValueError(\"Location based indexing can only have \"\n",
      "\u001b[0;31mIndexingError\u001b[0m: Too many indexers"
     ]
    }
   ],
   "source": [
    "FRFHF.loc['Ticker', 0]"
   ]
  },
  {
   "cell_type": "code",
   "execution_count": 253,
   "metadata": {},
   "outputs": [
    {
     "data": {
      "text/plain": [
       "1     FRFHF\n",
       "2     ZTCOY\n",
       "3     TKPYY\n",
       "4     SWSKF\n",
       "5       GPS\n",
       "6       SKM\n",
       "7       GIS\n",
       "8        CL\n",
       "9       AEP\n",
       "10      XPO\n",
       "11      CYH\n",
       "12      OMC\n",
       "13      YPF\n",
       "14      EMR\n",
       "15      CDW\n",
       "16      CEA\n",
       "17     SHPG\n",
       "18    TELNY\n",
       "Name: Ticker, dtype: object"
      ]
     },
     "execution_count": 253,
     "metadata": {},
     "output_type": "execute_result"
    }
   ],
   "source": [
    "tickers.Ticker"
   ]
  },
  {
   "cell_type": "code",
   "execution_count": 289,
   "metadata": {},
   "outputs": [
    {
     "data": {
      "text/html": [
       "<div>\n",
       "<style scoped>\n",
       "    .dataframe tbody tr th:only-of-type {\n",
       "        vertical-align: middle;\n",
       "    }\n",
       "\n",
       "    .dataframe tbody tr th {\n",
       "        vertical-align: top;\n",
       "    }\n",
       "\n",
       "    .dataframe thead th {\n",
       "        text-align: right;\n",
       "    }\n",
       "</style>\n",
       "<table border=\"1\" class=\"dataframe\">\n",
       "  <thead>\n",
       "    <tr style=\"text-align: right;\">\n",
       "      <th></th>\n",
       "      <th>Ticker</th>\n",
       "    </tr>\n",
       "  </thead>\n",
       "  <tbody>\n",
       "    <tr>\n",
       "      <th>1</th>\n",
       "      <td>FRFHF</td>\n",
       "    </tr>\n",
       "  </tbody>\n",
       "</table>\n",
       "</div>"
      ],
      "text/plain": [
       "  Ticker\n",
       "1  FRFHF"
      ]
     },
     "execution_count": 289,
     "metadata": {},
     "output_type": "execute_result"
    }
   ],
   "source": [
    "tickers.loc[1:1, 'Ticker':'Ticker']"
   ]
  },
  {
   "cell_type": "code",
   "execution_count": 291,
   "metadata": {},
   "outputs": [
    {
     "data": {
      "text/html": [
       "<div>\n",
       "<style scoped>\n",
       "    .dataframe tbody tr th:only-of-type {\n",
       "        vertical-align: middle;\n",
       "    }\n",
       "\n",
       "    .dataframe tbody tr th {\n",
       "        vertical-align: top;\n",
       "    }\n",
       "\n",
       "    .dataframe thead th {\n",
       "        text-align: right;\n",
       "    }\n",
       "</style>\n",
       "<table border=\"1\" class=\"dataframe\">\n",
       "  <thead>\n",
       "    <tr style=\"text-align: right;\">\n",
       "      <th></th>\n",
       "    </tr>\n",
       "  </thead>\n",
       "  <tbody>\n",
       "  </tbody>\n",
       "</table>\n",
       "</div>"
      ],
      "text/plain": [
       "Empty DataFrame\n",
       "Columns: []\n",
       "Index: []"
      ]
     },
     "execution_count": 291,
     "metadata": {},
     "output_type": "execute_result"
    }
   ],
   "source": [
    "tickers.iloc[0:0, 0:0]"
   ]
  },
  {
   "cell_type": "code",
   "execution_count": 338,
   "metadata": {},
   "outputs": [],
   "source": [
    "top5 = tickers.head().copy()"
   ]
  },
  {
   "cell_type": "code",
   "execution_count": 339,
   "metadata": {},
   "outputs": [
    {
     "data": {
      "text/html": [
       "<div>\n",
       "<style scoped>\n",
       "    .dataframe tbody tr th:only-of-type {\n",
       "        vertical-align: middle;\n",
       "    }\n",
       "\n",
       "    .dataframe tbody tr th {\n",
       "        vertical-align: top;\n",
       "    }\n",
       "\n",
       "    .dataframe thead th {\n",
       "        text-align: right;\n",
       "    }\n",
       "</style>\n",
       "<table border=\"1\" class=\"dataframe\">\n",
       "  <thead>\n",
       "    <tr style=\"text-align: right;\">\n",
       "      <th></th>\n",
       "      <th>Ticker</th>\n",
       "      <th>Company Name</th>\n",
       "      <th>Sector</th>\n",
       "      <th>Industry</th>\n",
       "      <th>Number of employees</th>\n",
       "      <th>Market Cap ($ millions)</th>\n",
       "      <th>52 Week Price Change In %</th>\n",
       "    </tr>\n",
       "  </thead>\n",
       "  <tbody>\n",
       "    <tr>\n",
       "      <th>1</th>\n",
       "      <td>FRFHF</td>\n",
       "      <td>A</td>\n",
       "      <td>a</td>\n",
       "      <td>NaN</td>\n",
       "      <td>NaN</td>\n",
       "      <td>NaN</td>\n",
       "      <td>NaN</td>\n",
       "    </tr>\n",
       "    <tr>\n",
       "      <th>2</th>\n",
       "      <td>ZTCOY</td>\n",
       "      <td>B</td>\n",
       "      <td>a</td>\n",
       "      <td>NaN</td>\n",
       "      <td>NaN</td>\n",
       "      <td>NaN</td>\n",
       "      <td>NaN</td>\n",
       "    </tr>\n",
       "    <tr>\n",
       "      <th>3</th>\n",
       "      <td>TKPYY</td>\n",
       "      <td>C</td>\n",
       "      <td>a</td>\n",
       "      <td>NaN</td>\n",
       "      <td>NaN</td>\n",
       "      <td>NaN</td>\n",
       "      <td>NaN</td>\n",
       "    </tr>\n",
       "    <tr>\n",
       "      <th>4</th>\n",
       "      <td>SWSKF</td>\n",
       "      <td>D</td>\n",
       "      <td>a</td>\n",
       "      <td>NaN</td>\n",
       "      <td>NaN</td>\n",
       "      <td>NaN</td>\n",
       "      <td>NaN</td>\n",
       "    </tr>\n",
       "    <tr>\n",
       "      <th>5</th>\n",
       "      <td>GPS</td>\n",
       "      <td>E</td>\n",
       "      <td>a</td>\n",
       "      <td>NaN</td>\n",
       "      <td>NaN</td>\n",
       "      <td>NaN</td>\n",
       "      <td>NaN</td>\n",
       "    </tr>\n",
       "  </tbody>\n",
       "</table>\n",
       "</div>"
      ],
      "text/plain": [
       "  Ticker Company Name Sector  Industry  Number of employees  \\\n",
       "1  FRFHF            A      a       NaN                  NaN   \n",
       "2  ZTCOY            B      a       NaN                  NaN   \n",
       "3  TKPYY            C      a       NaN                  NaN   \n",
       "4  SWSKF            D      a       NaN                  NaN   \n",
       "5    GPS            E      a       NaN                  NaN   \n",
       "\n",
       "   Market Cap ($ millions)  52 Week Price Change In %  \n",
       "1                      NaN                        NaN  \n",
       "2                      NaN                        NaN  \n",
       "3                      NaN                        NaN  \n",
       "4                      NaN                        NaN  \n",
       "5                      NaN                        NaN  "
      ]
     },
     "execution_count": 339,
     "metadata": {},
     "output_type": "execute_result"
    }
   ],
   "source": [
    "top5"
   ]
  },
  {
   "cell_type": "code",
   "execution_count": 340,
   "metadata": {},
   "outputs": [],
   "source": [
    "top5['Company Name'] = ['C', 'B', 'C', 'D', 'E']"
   ]
  },
  {
   "cell_type": "code",
   "execution_count": 341,
   "metadata": {},
   "outputs": [
    {
     "data": {
      "text/html": [
       "<div>\n",
       "<style scoped>\n",
       "    .dataframe tbody tr th:only-of-type {\n",
       "        vertical-align: middle;\n",
       "    }\n",
       "\n",
       "    .dataframe tbody tr th {\n",
       "        vertical-align: top;\n",
       "    }\n",
       "\n",
       "    .dataframe thead th {\n",
       "        text-align: right;\n",
       "    }\n",
       "</style>\n",
       "<table border=\"1\" class=\"dataframe\">\n",
       "  <thead>\n",
       "    <tr style=\"text-align: right;\">\n",
       "      <th></th>\n",
       "      <th>Ticker</th>\n",
       "      <th>Company Name</th>\n",
       "      <th>Sector</th>\n",
       "      <th>Industry</th>\n",
       "      <th>Number of employees</th>\n",
       "      <th>Market Cap ($ millions)</th>\n",
       "      <th>52 Week Price Change In %</th>\n",
       "    </tr>\n",
       "  </thead>\n",
       "  <tbody>\n",
       "    <tr>\n",
       "      <th>1</th>\n",
       "      <td>FRFHF</td>\n",
       "      <td>C</td>\n",
       "      <td>a</td>\n",
       "      <td>NaN</td>\n",
       "      <td>NaN</td>\n",
       "      <td>NaN</td>\n",
       "      <td>NaN</td>\n",
       "    </tr>\n",
       "    <tr>\n",
       "      <th>2</th>\n",
       "      <td>ZTCOY</td>\n",
       "      <td>B</td>\n",
       "      <td>a</td>\n",
       "      <td>NaN</td>\n",
       "      <td>NaN</td>\n",
       "      <td>NaN</td>\n",
       "      <td>NaN</td>\n",
       "    </tr>\n",
       "    <tr>\n",
       "      <th>3</th>\n",
       "      <td>TKPYY</td>\n",
       "      <td>C</td>\n",
       "      <td>a</td>\n",
       "      <td>NaN</td>\n",
       "      <td>NaN</td>\n",
       "      <td>NaN</td>\n",
       "      <td>NaN</td>\n",
       "    </tr>\n",
       "    <tr>\n",
       "      <th>4</th>\n",
       "      <td>SWSKF</td>\n",
       "      <td>D</td>\n",
       "      <td>a</td>\n",
       "      <td>NaN</td>\n",
       "      <td>NaN</td>\n",
       "      <td>NaN</td>\n",
       "      <td>NaN</td>\n",
       "    </tr>\n",
       "    <tr>\n",
       "      <th>5</th>\n",
       "      <td>GPS</td>\n",
       "      <td>E</td>\n",
       "      <td>a</td>\n",
       "      <td>NaN</td>\n",
       "      <td>NaN</td>\n",
       "      <td>NaN</td>\n",
       "      <td>NaN</td>\n",
       "    </tr>\n",
       "  </tbody>\n",
       "</table>\n",
       "</div>"
      ],
      "text/plain": [
       "  Ticker Company Name Sector  Industry  Number of employees  \\\n",
       "1  FRFHF            C      a       NaN                  NaN   \n",
       "2  ZTCOY            B      a       NaN                  NaN   \n",
       "3  TKPYY            C      a       NaN                  NaN   \n",
       "4  SWSKF            D      a       NaN                  NaN   \n",
       "5    GPS            E      a       NaN                  NaN   \n",
       "\n",
       "   Market Cap ($ millions)  52 Week Price Change In %  \n",
       "1                      NaN                        NaN  \n",
       "2                      NaN                        NaN  \n",
       "3                      NaN                        NaN  \n",
       "4                      NaN                        NaN  \n",
       "5                      NaN                        NaN  "
      ]
     },
     "execution_count": 341,
     "metadata": {},
     "output_type": "execute_result"
    }
   ],
   "source": [
    "top5"
   ]
  },
  {
   "cell_type": "code",
   "execution_count": 318,
   "metadata": {},
   "outputs": [
    {
     "data": {
      "text/plain": [
       "(18, 7)"
      ]
     },
     "execution_count": 318,
     "metadata": {},
     "output_type": "execute_result"
    }
   ],
   "source": [
    "tickers.shape"
   ]
  },
  {
   "cell_type": "code",
   "execution_count": 343,
   "metadata": {},
   "outputs": [],
   "source": [
    "tickers['Sector'] = 'b'"
   ]
  },
  {
   "cell_type": "code",
   "execution_count": 344,
   "metadata": {},
   "outputs": [
    {
     "data": {
      "text/html": [
       "<div>\n",
       "<style scoped>\n",
       "    .dataframe tbody tr th:only-of-type {\n",
       "        vertical-align: middle;\n",
       "    }\n",
       "\n",
       "    .dataframe tbody tr th {\n",
       "        vertical-align: top;\n",
       "    }\n",
       "\n",
       "    .dataframe thead th {\n",
       "        text-align: right;\n",
       "    }\n",
       "</style>\n",
       "<table border=\"1\" class=\"dataframe\">\n",
       "  <thead>\n",
       "    <tr style=\"text-align: right;\">\n",
       "      <th></th>\n",
       "      <th>Ticker</th>\n",
       "      <th>Company Name</th>\n",
       "      <th>Sector</th>\n",
       "      <th>Industry</th>\n",
       "      <th>Number of employees</th>\n",
       "      <th>Market Cap ($ millions)</th>\n",
       "      <th>52 Week Price Change In %</th>\n",
       "    </tr>\n",
       "  </thead>\n",
       "  <tbody>\n",
       "    <tr>\n",
       "      <th>1</th>\n",
       "      <td>FRFHF</td>\n",
       "      <td>A</td>\n",
       "      <td>b</td>\n",
       "      <td>NaN</td>\n",
       "      <td>NaN</td>\n",
       "      <td>NaN</td>\n",
       "      <td>NaN</td>\n",
       "    </tr>\n",
       "    <tr>\n",
       "      <th>2</th>\n",
       "      <td>ZTCOY</td>\n",
       "      <td>B</td>\n",
       "      <td>b</td>\n",
       "      <td>NaN</td>\n",
       "      <td>NaN</td>\n",
       "      <td>NaN</td>\n",
       "      <td>NaN</td>\n",
       "    </tr>\n",
       "    <tr>\n",
       "      <th>3</th>\n",
       "      <td>TKPYY</td>\n",
       "      <td>C</td>\n",
       "      <td>b</td>\n",
       "      <td>NaN</td>\n",
       "      <td>NaN</td>\n",
       "      <td>NaN</td>\n",
       "      <td>NaN</td>\n",
       "    </tr>\n",
       "    <tr>\n",
       "      <th>4</th>\n",
       "      <td>SWSKF</td>\n",
       "      <td>D</td>\n",
       "      <td>b</td>\n",
       "      <td>NaN</td>\n",
       "      <td>NaN</td>\n",
       "      <td>NaN</td>\n",
       "      <td>NaN</td>\n",
       "    </tr>\n",
       "    <tr>\n",
       "      <th>5</th>\n",
       "      <td>GPS</td>\n",
       "      <td>E</td>\n",
       "      <td>b</td>\n",
       "      <td>NaN</td>\n",
       "      <td>NaN</td>\n",
       "      <td>NaN</td>\n",
       "      <td>NaN</td>\n",
       "    </tr>\n",
       "    <tr>\n",
       "      <th>6</th>\n",
       "      <td>SKM</td>\n",
       "      <td>Unknown</td>\n",
       "      <td>b</td>\n",
       "      <td>NaN</td>\n",
       "      <td>NaN</td>\n",
       "      <td>NaN</td>\n",
       "      <td>NaN</td>\n",
       "    </tr>\n",
       "    <tr>\n",
       "      <th>7</th>\n",
       "      <td>GIS</td>\n",
       "      <td>Unknown</td>\n",
       "      <td>b</td>\n",
       "      <td>NaN</td>\n",
       "      <td>NaN</td>\n",
       "      <td>NaN</td>\n",
       "      <td>NaN</td>\n",
       "    </tr>\n",
       "    <tr>\n",
       "      <th>8</th>\n",
       "      <td>CL</td>\n",
       "      <td>Unknown</td>\n",
       "      <td>b</td>\n",
       "      <td>NaN</td>\n",
       "      <td>NaN</td>\n",
       "      <td>NaN</td>\n",
       "      <td>NaN</td>\n",
       "    </tr>\n",
       "    <tr>\n",
       "      <th>9</th>\n",
       "      <td>AEP</td>\n",
       "      <td>Unknown</td>\n",
       "      <td>b</td>\n",
       "      <td>NaN</td>\n",
       "      <td>NaN</td>\n",
       "      <td>NaN</td>\n",
       "      <td>NaN</td>\n",
       "    </tr>\n",
       "    <tr>\n",
       "      <th>10</th>\n",
       "      <td>XPO</td>\n",
       "      <td>Unknown</td>\n",
       "      <td>b</td>\n",
       "      <td>NaN</td>\n",
       "      <td>NaN</td>\n",
       "      <td>NaN</td>\n",
       "      <td>NaN</td>\n",
       "    </tr>\n",
       "    <tr>\n",
       "      <th>11</th>\n",
       "      <td>CYH</td>\n",
       "      <td>Unknown</td>\n",
       "      <td>b</td>\n",
       "      <td>NaN</td>\n",
       "      <td>NaN</td>\n",
       "      <td>NaN</td>\n",
       "      <td>NaN</td>\n",
       "    </tr>\n",
       "    <tr>\n",
       "      <th>12</th>\n",
       "      <td>OMC</td>\n",
       "      <td>Unknown</td>\n",
       "      <td>b</td>\n",
       "      <td>NaN</td>\n",
       "      <td>NaN</td>\n",
       "      <td>NaN</td>\n",
       "      <td>NaN</td>\n",
       "    </tr>\n",
       "    <tr>\n",
       "      <th>13</th>\n",
       "      <td>YPF</td>\n",
       "      <td>Unknown</td>\n",
       "      <td>b</td>\n",
       "      <td>NaN</td>\n",
       "      <td>NaN</td>\n",
       "      <td>NaN</td>\n",
       "      <td>NaN</td>\n",
       "    </tr>\n",
       "    <tr>\n",
       "      <th>14</th>\n",
       "      <td>EMR</td>\n",
       "      <td>Unknown</td>\n",
       "      <td>b</td>\n",
       "      <td>NaN</td>\n",
       "      <td>NaN</td>\n",
       "      <td>NaN</td>\n",
       "      <td>NaN</td>\n",
       "    </tr>\n",
       "    <tr>\n",
       "      <th>15</th>\n",
       "      <td>CDW</td>\n",
       "      <td>Unknown</td>\n",
       "      <td>b</td>\n",
       "      <td>NaN</td>\n",
       "      <td>NaN</td>\n",
       "      <td>NaN</td>\n",
       "      <td>NaN</td>\n",
       "    </tr>\n",
       "    <tr>\n",
       "      <th>16</th>\n",
       "      <td>CEA</td>\n",
       "      <td>Unknown</td>\n",
       "      <td>b</td>\n",
       "      <td>NaN</td>\n",
       "      <td>NaN</td>\n",
       "      <td>NaN</td>\n",
       "      <td>NaN</td>\n",
       "    </tr>\n",
       "    <tr>\n",
       "      <th>17</th>\n",
       "      <td>SHPG</td>\n",
       "      <td>Unknown</td>\n",
       "      <td>b</td>\n",
       "      <td>NaN</td>\n",
       "      <td>NaN</td>\n",
       "      <td>NaN</td>\n",
       "      <td>NaN</td>\n",
       "    </tr>\n",
       "    <tr>\n",
       "      <th>18</th>\n",
       "      <td>TELNY</td>\n",
       "      <td>Unknown</td>\n",
       "      <td>b</td>\n",
       "      <td>NaN</td>\n",
       "      <td>NaN</td>\n",
       "      <td>NaN</td>\n",
       "      <td>NaN</td>\n",
       "    </tr>\n",
       "  </tbody>\n",
       "</table>\n",
       "</div>"
      ],
      "text/plain": [
       "   Ticker Company Name Sector  Industry  Number of employees  \\\n",
       "1   FRFHF            A      b       NaN                  NaN   \n",
       "2   ZTCOY            B      b       NaN                  NaN   \n",
       "3   TKPYY            C      b       NaN                  NaN   \n",
       "4   SWSKF            D      b       NaN                  NaN   \n",
       "5     GPS            E      b       NaN                  NaN   \n",
       "6     SKM      Unknown      b       NaN                  NaN   \n",
       "7     GIS      Unknown      b       NaN                  NaN   \n",
       "8      CL      Unknown      b       NaN                  NaN   \n",
       "9     AEP      Unknown      b       NaN                  NaN   \n",
       "10    XPO      Unknown      b       NaN                  NaN   \n",
       "11    CYH      Unknown      b       NaN                  NaN   \n",
       "12    OMC      Unknown      b       NaN                  NaN   \n",
       "13    YPF      Unknown      b       NaN                  NaN   \n",
       "14    EMR      Unknown      b       NaN                  NaN   \n",
       "15    CDW      Unknown      b       NaN                  NaN   \n",
       "16    CEA      Unknown      b       NaN                  NaN   \n",
       "17   SHPG      Unknown      b       NaN                  NaN   \n",
       "18  TELNY      Unknown      b       NaN                  NaN   \n",
       "\n",
       "    Market Cap ($ millions)  52 Week Price Change In %  \n",
       "1                       NaN                        NaN  \n",
       "2                       NaN                        NaN  \n",
       "3                       NaN                        NaN  \n",
       "4                       NaN                        NaN  \n",
       "5                       NaN                        NaN  \n",
       "6                       NaN                        NaN  \n",
       "7                       NaN                        NaN  \n",
       "8                       NaN                        NaN  \n",
       "9                       NaN                        NaN  \n",
       "10                      NaN                        NaN  \n",
       "11                      NaN                        NaN  \n",
       "12                      NaN                        NaN  \n",
       "13                      NaN                        NaN  \n",
       "14                      NaN                        NaN  \n",
       "15                      NaN                        NaN  \n",
       "16                      NaN                        NaN  \n",
       "17                      NaN                        NaN  \n",
       "18                      NaN                        NaN  "
      ]
     },
     "execution_count": 344,
     "metadata": {},
     "output_type": "execute_result"
    }
   ],
   "source": [
    "tickers"
   ]
  },
  {
   "cell_type": "code",
   "execution_count": 330,
   "metadata": {},
   "outputs": [],
   "source": [
    "h = tickers.head()"
   ]
  },
  {
   "cell_type": "code",
   "execution_count": 336,
   "metadata": {},
   "outputs": [
    {
     "name": "stderr",
     "output_type": "stream",
     "text": [
      "/usr/local/lib/python3.6/site-packages/ipykernel_launcher.py:1: SettingWithCopyWarning: \n",
      "A value is trying to be set on a copy of a slice from a DataFrame.\n",
      "Try using .loc[row_indexer,col_indexer] = value instead\n",
      "\n",
      "See the caveats in the documentation: http://pandas.pydata.org/pandas-docs/stable/indexing.html#indexing-view-versus-copy\n",
      "  \"\"\"Entry point for launching an IPython kernel.\n"
     ]
    }
   ],
   "source": [
    "h['Sector'] = ['In'] * 5"
   ]
  },
  {
   "cell_type": "code",
   "execution_count": 337,
   "metadata": {},
   "outputs": [
    {
     "data": {
      "text/html": [
       "<div>\n",
       "<style scoped>\n",
       "    .dataframe tbody tr th:only-of-type {\n",
       "        vertical-align: middle;\n",
       "    }\n",
       "\n",
       "    .dataframe tbody tr th {\n",
       "        vertical-align: top;\n",
       "    }\n",
       "\n",
       "    .dataframe thead th {\n",
       "        text-align: right;\n",
       "    }\n",
       "</style>\n",
       "<table border=\"1\" class=\"dataframe\">\n",
       "  <thead>\n",
       "    <tr style=\"text-align: right;\">\n",
       "      <th></th>\n",
       "      <th>Ticker</th>\n",
       "      <th>Company Name</th>\n",
       "      <th>Sector</th>\n",
       "      <th>Industry</th>\n",
       "      <th>Number of employees</th>\n",
       "      <th>Market Cap ($ millions)</th>\n",
       "      <th>52 Week Price Change In %</th>\n",
       "    </tr>\n",
       "  </thead>\n",
       "  <tbody>\n",
       "    <tr>\n",
       "      <th>1</th>\n",
       "      <td>FRFHF</td>\n",
       "      <td>A</td>\n",
       "      <td>a</td>\n",
       "      <td>NaN</td>\n",
       "      <td>NaN</td>\n",
       "      <td>NaN</td>\n",
       "      <td>NaN</td>\n",
       "    </tr>\n",
       "    <tr>\n",
       "      <th>2</th>\n",
       "      <td>ZTCOY</td>\n",
       "      <td>B</td>\n",
       "      <td>a</td>\n",
       "      <td>NaN</td>\n",
       "      <td>NaN</td>\n",
       "      <td>NaN</td>\n",
       "      <td>NaN</td>\n",
       "    </tr>\n",
       "    <tr>\n",
       "      <th>3</th>\n",
       "      <td>TKPYY</td>\n",
       "      <td>C</td>\n",
       "      <td>a</td>\n",
       "      <td>NaN</td>\n",
       "      <td>NaN</td>\n",
       "      <td>NaN</td>\n",
       "      <td>NaN</td>\n",
       "    </tr>\n",
       "    <tr>\n",
       "      <th>4</th>\n",
       "      <td>SWSKF</td>\n",
       "      <td>D</td>\n",
       "      <td>a</td>\n",
       "      <td>NaN</td>\n",
       "      <td>NaN</td>\n",
       "      <td>NaN</td>\n",
       "      <td>NaN</td>\n",
       "    </tr>\n",
       "    <tr>\n",
       "      <th>5</th>\n",
       "      <td>GPS</td>\n",
       "      <td>E</td>\n",
       "      <td>a</td>\n",
       "      <td>NaN</td>\n",
       "      <td>NaN</td>\n",
       "      <td>NaN</td>\n",
       "      <td>NaN</td>\n",
       "    </tr>\n",
       "    <tr>\n",
       "      <th>6</th>\n",
       "      <td>SKM</td>\n",
       "      <td>Unknown</td>\n",
       "      <td>a</td>\n",
       "      <td>NaN</td>\n",
       "      <td>NaN</td>\n",
       "      <td>NaN</td>\n",
       "      <td>NaN</td>\n",
       "    </tr>\n",
       "    <tr>\n",
       "      <th>7</th>\n",
       "      <td>GIS</td>\n",
       "      <td>Unknown</td>\n",
       "      <td>a</td>\n",
       "      <td>NaN</td>\n",
       "      <td>NaN</td>\n",
       "      <td>NaN</td>\n",
       "      <td>NaN</td>\n",
       "    </tr>\n",
       "    <tr>\n",
       "      <th>8</th>\n",
       "      <td>CL</td>\n",
       "      <td>Unknown</td>\n",
       "      <td>a</td>\n",
       "      <td>NaN</td>\n",
       "      <td>NaN</td>\n",
       "      <td>NaN</td>\n",
       "      <td>NaN</td>\n",
       "    </tr>\n",
       "    <tr>\n",
       "      <th>9</th>\n",
       "      <td>AEP</td>\n",
       "      <td>Unknown</td>\n",
       "      <td>a</td>\n",
       "      <td>NaN</td>\n",
       "      <td>NaN</td>\n",
       "      <td>NaN</td>\n",
       "      <td>NaN</td>\n",
       "    </tr>\n",
       "    <tr>\n",
       "      <th>10</th>\n",
       "      <td>XPO</td>\n",
       "      <td>Unknown</td>\n",
       "      <td>a</td>\n",
       "      <td>NaN</td>\n",
       "      <td>NaN</td>\n",
       "      <td>NaN</td>\n",
       "      <td>NaN</td>\n",
       "    </tr>\n",
       "    <tr>\n",
       "      <th>11</th>\n",
       "      <td>CYH</td>\n",
       "      <td>Unknown</td>\n",
       "      <td>a</td>\n",
       "      <td>NaN</td>\n",
       "      <td>NaN</td>\n",
       "      <td>NaN</td>\n",
       "      <td>NaN</td>\n",
       "    </tr>\n",
       "    <tr>\n",
       "      <th>12</th>\n",
       "      <td>OMC</td>\n",
       "      <td>Unknown</td>\n",
       "      <td>a</td>\n",
       "      <td>NaN</td>\n",
       "      <td>NaN</td>\n",
       "      <td>NaN</td>\n",
       "      <td>NaN</td>\n",
       "    </tr>\n",
       "    <tr>\n",
       "      <th>13</th>\n",
       "      <td>YPF</td>\n",
       "      <td>Unknown</td>\n",
       "      <td>a</td>\n",
       "      <td>NaN</td>\n",
       "      <td>NaN</td>\n",
       "      <td>NaN</td>\n",
       "      <td>NaN</td>\n",
       "    </tr>\n",
       "    <tr>\n",
       "      <th>14</th>\n",
       "      <td>EMR</td>\n",
       "      <td>Unknown</td>\n",
       "      <td>a</td>\n",
       "      <td>NaN</td>\n",
       "      <td>NaN</td>\n",
       "      <td>NaN</td>\n",
       "      <td>NaN</td>\n",
       "    </tr>\n",
       "    <tr>\n",
       "      <th>15</th>\n",
       "      <td>CDW</td>\n",
       "      <td>Unknown</td>\n",
       "      <td>a</td>\n",
       "      <td>NaN</td>\n",
       "      <td>NaN</td>\n",
       "      <td>NaN</td>\n",
       "      <td>NaN</td>\n",
       "    </tr>\n",
       "    <tr>\n",
       "      <th>16</th>\n",
       "      <td>CEA</td>\n",
       "      <td>Unknown</td>\n",
       "      <td>a</td>\n",
       "      <td>NaN</td>\n",
       "      <td>NaN</td>\n",
       "      <td>NaN</td>\n",
       "      <td>NaN</td>\n",
       "    </tr>\n",
       "    <tr>\n",
       "      <th>17</th>\n",
       "      <td>SHPG</td>\n",
       "      <td>Unknown</td>\n",
       "      <td>a</td>\n",
       "      <td>NaN</td>\n",
       "      <td>NaN</td>\n",
       "      <td>NaN</td>\n",
       "      <td>NaN</td>\n",
       "    </tr>\n",
       "    <tr>\n",
       "      <th>18</th>\n",
       "      <td>TELNY</td>\n",
       "      <td>Unknown</td>\n",
       "      <td>a</td>\n",
       "      <td>NaN</td>\n",
       "      <td>NaN</td>\n",
       "      <td>NaN</td>\n",
       "      <td>NaN</td>\n",
       "    </tr>\n",
       "  </tbody>\n",
       "</table>\n",
       "</div>"
      ],
      "text/plain": [
       "   Ticker Company Name Sector  Industry  Number of employees  \\\n",
       "1   FRFHF            A      a       NaN                  NaN   \n",
       "2   ZTCOY            B      a       NaN                  NaN   \n",
       "3   TKPYY            C      a       NaN                  NaN   \n",
       "4   SWSKF            D      a       NaN                  NaN   \n",
       "5     GPS            E      a       NaN                  NaN   \n",
       "6     SKM      Unknown      a       NaN                  NaN   \n",
       "7     GIS      Unknown      a       NaN                  NaN   \n",
       "8      CL      Unknown      a       NaN                  NaN   \n",
       "9     AEP      Unknown      a       NaN                  NaN   \n",
       "10    XPO      Unknown      a       NaN                  NaN   \n",
       "11    CYH      Unknown      a       NaN                  NaN   \n",
       "12    OMC      Unknown      a       NaN                  NaN   \n",
       "13    YPF      Unknown      a       NaN                  NaN   \n",
       "14    EMR      Unknown      a       NaN                  NaN   \n",
       "15    CDW      Unknown      a       NaN                  NaN   \n",
       "16    CEA      Unknown      a       NaN                  NaN   \n",
       "17   SHPG      Unknown      a       NaN                  NaN   \n",
       "18  TELNY      Unknown      a       NaN                  NaN   \n",
       "\n",
       "    Market Cap ($ millions)  52 Week Price Change In %  \n",
       "1                       NaN                        NaN  \n",
       "2                       NaN                        NaN  \n",
       "3                       NaN                        NaN  \n",
       "4                       NaN                        NaN  \n",
       "5                       NaN                        NaN  \n",
       "6                       NaN                        NaN  \n",
       "7                       NaN                        NaN  \n",
       "8                       NaN                        NaN  \n",
       "9                       NaN                        NaN  \n",
       "10                      NaN                        NaN  \n",
       "11                      NaN                        NaN  \n",
       "12                      NaN                        NaN  \n",
       "13                      NaN                        NaN  \n",
       "14                      NaN                        NaN  \n",
       "15                      NaN                        NaN  \n",
       "16                      NaN                        NaN  \n",
       "17                      NaN                        NaN  \n",
       "18                      NaN                        NaN  "
      ]
     },
     "execution_count": 337,
     "metadata": {},
     "output_type": "execute_result"
    }
   ],
   "source": [
    "tickers"
   ]
  },
  {
   "cell_type": "code",
   "execution_count": null,
   "metadata": {},
   "outputs": [],
   "source": []
  }
 ],
 "metadata": {
  "kernelspec": {
   "display_name": "Python 3",
   "language": "python",
   "name": "python3"
  },
  "language_info": {
   "codemirror_mode": {
    "name": "ipython",
    "version": 3
   },
   "file_extension": ".py",
   "mimetype": "text/x-python",
   "name": "python",
   "nbconvert_exporter": "python",
   "pygments_lexer": "ipython3",
   "version": "3.6.5"
  }
 },
 "nbformat": 4,
 "nbformat_minor": 2
}
